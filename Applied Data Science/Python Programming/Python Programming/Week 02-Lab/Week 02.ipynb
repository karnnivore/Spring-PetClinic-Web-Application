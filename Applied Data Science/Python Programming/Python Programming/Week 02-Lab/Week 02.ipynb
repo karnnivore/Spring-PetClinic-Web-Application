{
 "cells": [
  {
   "cell_type": "code",
   "execution_count": 1,
   "metadata": {},
   "outputs": [],
   "source": [
    "mB1=True"
   ]
  },
  {
   "cell_type": "code",
   "execution_count": 2,
   "metadata": {},
   "outputs": [
    {
     "name": "stdout",
     "output_type": "stream",
     "text": [
      "True\n"
     ]
    }
   ],
   "source": [
    "print(mB1)"
   ]
  },
  {
   "cell_type": "code",
   "execution_count": 3,
   "metadata": {},
   "outputs": [
    {
     "data": {
      "text/plain": [
       "True"
      ]
     },
     "execution_count": 3,
     "metadata": {},
     "output_type": "execute_result"
    }
   ],
   "source": [
    "mB1"
   ]
  },
  {
   "cell_type": "code",
   "execution_count": 4,
   "metadata": {},
   "outputs": [
    {
     "name": "stdout",
     "output_type": "stream",
     "text": [
      "True\n"
     ]
    }
   ],
   "source": [
    "print(mB1==True)"
   ]
  },
  {
   "cell_type": "code",
   "execution_count": 6,
   "metadata": {},
   "outputs": [
    {
     "name": "stdout",
     "output_type": "stream",
     "text": [
      "False\n"
     ]
    }
   ],
   "source": [
    "print(mB1!=True)"
   ]
  },
  {
   "cell_type": "code",
   "execution_count": 7,
   "metadata": {},
   "outputs": [],
   "source": [
    "s1=\"Hello\"\n",
    "s2=\"Bye!\""
   ]
  },
  {
   "cell_type": "code",
   "execution_count": 8,
   "metadata": {},
   "outputs": [
    {
     "data": {
      "text/plain": [
       "False"
      ]
     },
     "execution_count": 8,
     "metadata": {},
     "output_type": "execute_result"
    }
   ],
   "source": [
    "s1==s2"
   ]
  },
  {
   "cell_type": "code",
   "execution_count": 1,
   "metadata": {},
   "outputs": [],
   "source": [
    "stats = [48.0, 30.5, 20.2, 100.0]"
   ]
  },
  {
   "cell_type": "code",
   "execution_count": 2,
   "metadata": {},
   "outputs": [],
   "source": [
    "inventory = [\"staff\", \"hat\", \"shoes\", \n",
    "             \"bread\", \"potion\"]"
   ]
  },
  {
   "cell_type": "code",
   "execution_count": 3,
   "metadata": {},
   "outputs": [],
   "source": [
    "stats.append(99.5)"
   ]
  },
  {
   "cell_type": "code",
   "execution_count": 4,
   "metadata": {},
   "outputs": [
    {
     "data": {
      "text/plain": [
       "[48.0, 30.5, 20.2, 100.0, 99.5]"
      ]
     },
     "execution_count": 4,
     "metadata": {},
     "output_type": "execute_result"
    }
   ],
   "source": [
    "stats"
   ]
  },
  {
   "cell_type": "code",
   "execution_count": 5,
   "metadata": {},
   "outputs": [],
   "source": [
    "inventory.insert(3, \"robe\")"
   ]
  },
  {
   "cell_type": "code",
   "execution_count": 6,
   "metadata": {},
   "outputs": [
    {
     "data": {
      "text/plain": [
       "['staff', 'hat', 'shoes', 'robe', 'bread', 'potion']"
      ]
     },
     "execution_count": 6,
     "metadata": {},
     "output_type": "execute_result"
    }
   ],
   "source": [
    "inventory"
   ]
  },
  {
   "cell_type": "code",
   "execution_count": 7,
   "metadata": {},
   "outputs": [],
   "source": [
    "inventory.remove(\"shoes\")"
   ]
  },
  {
   "cell_type": "code",
   "execution_count": 8,
   "metadata": {},
   "outputs": [
    {
     "data": {
      "text/plain": [
       "['staff', 'hat', 'robe', 'bread', 'potion']"
      ]
     },
     "execution_count": 8,
     "metadata": {},
     "output_type": "execute_result"
    }
   ],
   "source": [
    "inventory"
   ]
  },
  {
   "cell_type": "code",
   "execution_count": 9,
   "metadata": {},
   "outputs": [],
   "source": [
    "inventory = [\"staff\", \"hat\", \"robe\", \"bread\"]"
   ]
  },
  {
   "cell_type": "code",
   "execution_count": 10,
   "metadata": {},
   "outputs": [
    {
     "data": {
      "text/plain": [
       "['staff', 'hat', 'robe', 'bread']"
      ]
     },
     "execution_count": 10,
     "metadata": {},
     "output_type": "execute_result"
    }
   ],
   "source": [
    "inventory"
   ]
  },
  {
   "cell_type": "code",
   "execution_count": 11,
   "metadata": {},
   "outputs": [],
   "source": [
    "item = inventory.pop()"
   ]
  },
  {
   "cell_type": "code",
   "execution_count": 12,
   "metadata": {},
   "outputs": [
    {
     "data": {
      "text/plain": [
       "['staff', 'hat', 'robe']"
      ]
     },
     "execution_count": 12,
     "metadata": {},
     "output_type": "execute_result"
    }
   ],
   "source": [
    "inventory"
   ]
  },
  {
   "cell_type": "code",
   "execution_count": 13,
   "metadata": {},
   "outputs": [],
   "source": [
    "item = inventory.pop(1)"
   ]
  },
  {
   "cell_type": "code",
   "execution_count": 14,
   "metadata": {},
   "outputs": [
    {
     "data": {
      "text/plain": [
       "['staff', 'robe']"
      ]
     },
     "execution_count": 14,
     "metadata": {},
     "output_type": "execute_result"
    }
   ],
   "source": [
    "inventory"
   ]
  },
  {
   "cell_type": "code",
   "execution_count": 15,
   "metadata": {},
   "outputs": [],
   "source": [
    "inventory = [\"staff\", \"hat\", \"bread\", \"potion\"]"
   ]
  },
  {
   "cell_type": "code",
   "execution_count": 16,
   "metadata": {},
   "outputs": [],
   "source": [
    "item = \"bread\""
   ]
  },
  {
   "cell_type": "code",
   "execution_count": 17,
   "metadata": {},
   "outputs": [],
   "source": [
    "if item in inventory:\n",
    "    inventory.remove(item)\t# [\"staff\", \"hat\", \"potion\"]"
   ]
  },
  {
   "cell_type": "code",
   "execution_count": 18,
   "metadata": {},
   "outputs": [
    {
     "data": {
      "text/plain": [
       "['staff', 'hat', 'potion']"
      ]
     },
     "execution_count": 18,
     "metadata": {},
     "output_type": "execute_result"
    }
   ],
   "source": [
    "inventory"
   ]
  },
  {
   "cell_type": "code",
   "execution_count": 19,
   "metadata": {},
   "outputs": [],
   "source": [
    "inventory = [\"staff\", \"hat\", \"shoes\", \"bread\", \"potion\"]"
   ]
  },
  {
   "cell_type": "code",
   "execution_count": 20,
   "metadata": {},
   "outputs": [
    {
     "name": "stdout",
     "output_type": "stream",
     "text": [
      "['staff', 'hat', 'shoes', 'bread', 'potion']\n"
     ]
    }
   ],
   "source": [
    "print(inventory)"
   ]
  },
  {
   "cell_type": "code",
   "execution_count": 21,
   "metadata": {},
   "outputs": [
    {
     "data": {
      "text/plain": [
       "['staff', 'hat', 'shoes', 'bread', 'potion']"
      ]
     },
     "execution_count": 21,
     "metadata": {},
     "output_type": "execute_result"
    }
   ],
   "source": [
    "inventory"
   ]
  },
  {
   "cell_type": "code",
   "execution_count": 22,
   "metadata": {},
   "outputs": [
    {
     "name": "stdout",
     "output_type": "stream",
     "text": [
      "staff\n",
      "hat\n",
      "shoes\n"
     ]
    }
   ],
   "source": [
    "inventory = [\"staff\", \"hat\", \"shoes\"]\n",
    "for item in inventory:\n",
    "    print(item)"
   ]
  },
  {
   "cell_type": "code",
   "execution_count": 24,
   "metadata": {},
   "outputs": [
    {
     "name": "stdout",
     "output_type": "stream",
     "text": [
      "340\n"
     ]
    }
   ],
   "source": [
    "scores = [70, 80, 90, 100]\n",
    "total = 0\n",
    "for score in scores:\n",
    "    total += score\n",
    "print(total)          "
   ]
  },
  {
   "cell_type": "code",
   "execution_count": 25,
   "metadata": {},
   "outputs": [
    {
     "name": "stdout",
     "output_type": "stream",
     "text": [
      "340\n"
     ]
    }
   ],
   "source": [
    "scores = [70, 80, 90, 100]\n",
    "total = 0\n",
    "i = 0\n",
    "while i < len(scores):\n",
    "    total += scores[i]\n",
    "    i += 1\n",
    "print(total)"
   ]
  },
  {
   "cell_type": "code",
   "execution_count": 26,
   "metadata": {},
   "outputs": [],
   "source": [
    "def add_to_list(list, item):\n",
    "    list.append(item)"
   ]
  },
  {
   "cell_type": "code",
   "execution_count": 27,
   "metadata": {},
   "outputs": [],
   "source": [
    "inventory = [\"staff\", \"hat\", \"bread\"]"
   ]
  },
  {
   "cell_type": "code",
   "execution_count": 28,
   "metadata": {},
   "outputs": [],
   "source": [
    "add_to_list(inventory, \"robe\")"
   ]
  },
  {
   "cell_type": "code",
   "execution_count": 29,
   "metadata": {},
   "outputs": [
    {
     "data": {
      "text/plain": [
       "['staff', 'hat', 'bread', 'robe']"
      ]
     },
     "execution_count": 29,
     "metadata": {},
     "output_type": "execute_result"
    }
   ],
   "source": [
    "inventory"
   ]
  },
  {
   "cell_type": "code",
   "execution_count": 40,
   "metadata": {},
   "outputs": [],
   "source": [
    "def display_menu():\n",
    "    print(\"COMMAND MENU\")\n",
    "    print(\"list - List all movies\")\n",
    "    print(\"add  - Add a movie\")\n",
    "    print(\"del  - Delete a movie\")\n",
    "    print(\"exit - Exit program\")\n",
    "    print()\n",
    "\n",
    "def list(movie_list):\n",
    "    i = 1\n",
    "    for movie in movie_list:\n",
    "        print(str(i) + \". \" + movie)\n",
    "        i += 1\n",
    "    print()\n",
    "\n",
    "def add(movie_list):\n",
    "    movie = input(\"Name: \")\n",
    "    movie_list.append(movie)\n",
    "    print(movie + \" was added.\\n\")\n",
    "    \n",
    "def add(movie_list):\n",
    "    movie = input(\"Name: \")\n",
    "    movie_list.append(movie)\n",
    "    print(movie + \" was added.\\n\")\n",
    "    \n",
    "def delete(movie_list):\n",
    "    number = int(input(\"Number: \"))\n",
    "    if number < 1 or number > len(movie_list):\n",
    "        print(\"Invalid movie number.\\n\")\n",
    "    else:\n",
    "        movie = movie_list.pop(number-1)\n",
    "        print(movie + \" was deleted.\\n\")\n",
    "        \n",
    "def main():\n",
    "    movie_list = [\"Monty Python and the Holy Grail\",\n",
    "                  \"On the Waterfront\",\n",
    "                  \"Cat on a Hot Tin Roof\"]\n",
    "    display_menu()\n",
    "\n",
    "while True:        \n",
    "    command = input(\"Command: \")\n",
    "    if command.lower() == \"list\":\n",
    "        list(movie_list)   \n",
    "    elif command.lower() == \"add\":\n",
    "        add(movie_list)\n",
    "    elif command.lower() == \"del\":\n",
    "        delete(movie_list)  \n",
    "    elif command.lower() == \"exit\":\n",
    "        break\n",
    "    else:\n",
    "        print(\"Not a valid command. Please try again.\\n\")\n",
    "print(\"Bye!\")\n",
    "\n",
    "movies = [[\"The Holy Grail\", 1975, 9.99],\n",
    "          [\"Life of Brian\", 1979, 12.30],\n",
    "          [\"The Meaning of Life\", 1983, 7.50]]"
   ]
  },
  {
   "cell_type": "code",
   "execution_count": 50,
   "metadata": {},
   "outputs": [],
   "source": [
    "def list(movie_list):\n",
    "    if len(movie_list) == 0:\n",
    "        print(\"There are no movies in the list.\\n\")\n",
    "        return\n",
    "    else:\n",
    "        i = 1\n",
    "        for row in movie_list:\n",
    "            print(str(i) + \". \" + row[0] + \" (\" \n",
    "                + str(row[1]) + \")\")\n",
    "            i += 1\n",
    "        print()\n"
   ]
  },
  {
   "cell_type": "code",
   "execution_count": 51,
   "metadata": {},
   "outputs": [],
   "source": [
    "def add(movie_list):\n",
    "    name = input(\"Name: \")\n",
    "    year = input(\"Year: \")\n",
    "    movie = []\n",
    "    movie.append(name)\n",
    "    movie.append(year)\n",
    "    movie_list.append(movie)\n",
    "    print(movie[0] + \" was added.\\n\") "
   ]
  },
  {
   "cell_type": "code",
   "execution_count": 52,
   "metadata": {},
   "outputs": [],
   "source": [
    "def delete(movie_list):\n",
    "    number = int(input(\"Number: \"))\n",
    "    if number < 1 or number > len(movie_list):\n",
    "        print(\"Invalid movie number.\\n\")\n",
    "    else:\n",
    "        movie = movie_list.pop(number-1)\n",
    "        print(movie[0] + \" was deleted.\\n\")"
   ]
  },
  {
   "cell_type": "code",
   "execution_count": 53,
   "metadata": {},
   "outputs": [],
   "source": [
    "def display_menu():\n",
    "    print(\"COMMAND MENU\")\n",
    "    print(\"list - List all movies\")\n",
    "    print(\"add -  Add a movie\")\n",
    "    print(\"del -  Delete a movie\")\n",
    "    print(\"exit - Exit program\")\n",
    "    print() "
   ]
  },
  {
   "cell_type": "code",
   "execution_count": 55,
   "metadata": {},
   "outputs": [],
   "source": [
    "def main():\n",
    "    movie_list = [[\"Monty Python and the Holy Grail\", 1975],\n",
    "                  [\"On the Waterfront\", 1954],\n",
    "                  [\"Cat on a Hot Tin Roof\", 1958]]"
   ]
  },
  {
   "cell_type": "code",
   "execution_count": null,
   "metadata": {},
   "outputs": [],
   "source": [
    "while True:        \n",
    "    command = input(\"Command: \")\n",
    "    if command == \"list\":\n",
    "        list(movie_list)\n",
    "    elif command == \"add\":\n",
    "        add(movie_list)\n",
    "    elif command == \"del\":\n",
    "        delete(movie_list)\n",
    "    elif command == \"exit\":\n",
    "        break\n",
    "    else:\n",
    "        print(\"Not a valid command. Please try again.\\n\")\n",
    "print(\"Bye!\")"
   ]
  },
  {
   "cell_type": "code",
   "execution_count": 57,
   "metadata": {},
   "outputs": [],
   "source": [
    "numlist = [5, 15, 84, 3, 14, 2, 8, 10, 14, 25]"
   ]
  },
  {
   "cell_type": "code",
   "execution_count": 58,
   "metadata": {},
   "outputs": [],
   "source": [
    "count = numlist.count(14)  "
   ]
  },
  {
   "cell_type": "code",
   "execution_count": 59,
   "metadata": {},
   "outputs": [
    {
     "data": {
      "text/plain": [
       "2"
      ]
     },
     "execution_count": 59,
     "metadata": {},
     "output_type": "execute_result"
    }
   ],
   "source": [
    "count"
   ]
  },
  {
   "cell_type": "code",
   "execution_count": 63,
   "metadata": {},
   "outputs": [],
   "source": [
    "numlist.sort()"
   ]
  },
  {
   "cell_type": "code",
   "execution_count": 64,
   "metadata": {},
   "outputs": [
    {
     "data": {
      "text/plain": [
       "[2, 3, 5, 8, 10, 14, 14, 15, 25, 84]"
      ]
     },
     "execution_count": 64,
     "metadata": {},
     "output_type": "execute_result"
    }
   ],
   "source": [
    "numlist"
   ]
  },
  {
   "cell_type": "code",
   "execution_count": 65,
   "metadata": {},
   "outputs": [],
   "source": [
    "foodlist = [\"orange\", \"apple\", \"Pear\", \"banana\"]"
   ]
  },
  {
   "cell_type": "code",
   "execution_count": 66,
   "metadata": {},
   "outputs": [],
   "source": [
    "# [\"Pear\", \"apple\", \"banana\", \"orange\"]\n",
    "foodlist.sort()"
   ]
  },
  {
   "cell_type": "code",
   "execution_count": 67,
   "metadata": {},
   "outputs": [
    {
     "data": {
      "text/plain": [
       "['Pear', 'apple', 'banana', 'orange']"
      ]
     },
     "execution_count": 67,
     "metadata": {},
     "output_type": "execute_result"
    }
   ],
   "source": [
    "foodlist"
   ]
  },
  {
   "cell_type": "code",
   "execution_count": 68,
   "metadata": {},
   "outputs": [],
   "source": [
    "foodlist.sort(key=str.lower)"
   ]
  },
  {
   "cell_type": "code",
   "execution_count": 69,
   "metadata": {},
   "outputs": [
    {
     "data": {
      "text/plain": [
       "['apple', 'banana', 'orange', 'Pear']"
      ]
     },
     "execution_count": 69,
     "metadata": {},
     "output_type": "execute_result"
    }
   ],
   "source": [
    "foodlist"
   ]
  },
  {
   "cell_type": "code",
   "execution_count": 70,
   "metadata": {},
   "outputs": [],
   "source": [
    "import random\n",
    "numlist = [5, 15, 84, 3, 14, 2, 8, 10, 14]    "
   ]
  },
  {
   "cell_type": "code",
   "execution_count": 71,
   "metadata": {},
   "outputs": [],
   "source": [
    "X = random.choice(numlist) # gets random item    "
   ]
  },
  {
   "cell_type": "code",
   "execution_count": 72,
   "metadata": {},
   "outputs": [
    {
     "data": {
      "text/plain": [
       "5"
      ]
     },
     "execution_count": 72,
     "metadata": {},
     "output_type": "execute_result"
    }
   ],
   "source": [
    "X"
   ]
  },
  {
   "cell_type": "code",
   "execution_count": 73,
   "metadata": {},
   "outputs": [],
   "source": [
    "random.shuffle(numlist) "
   ]
  },
  {
   "cell_type": "code",
   "execution_count": 74,
   "metadata": {},
   "outputs": [
    {
     "data": {
      "text/plain": [
       "[15, 10, 2, 14, 84, 3, 14, 8, 5]"
      ]
     },
     "execution_count": 74,
     "metadata": {},
     "output_type": "execute_result"
    }
   ],
   "source": [
    "numlist"
   ]
  },
  {
   "cell_type": "code",
   "execution_count": 76,
   "metadata": {},
   "outputs": [
    {
     "ename": "NameError",
     "evalue": "name 'age' is not defined",
     "output_type": "error",
     "traceback": [
      "\u001b[1;31m---------------------------------------------------------------------------\u001b[0m",
      "\u001b[1;31mNameError\u001b[0m                                 Traceback (most recent call last)",
      "\u001b[1;32m<ipython-input-76-c64632d7f4a5>\u001b[0m in \u001b[0;36m<module>\u001b[1;34m\u001b[0m\n\u001b[1;32m----> 1\u001b[1;33m \u001b[0mage\u001b[0m \u001b[1;33m==\u001b[0m \u001b[1;36m5\u001b[0m                \u001b[1;31m# variable equal to numeric literal\u001b[0m\u001b[1;33m\u001b[0m\u001b[1;33m\u001b[0m\u001b[0m\n\u001b[0m\u001b[0;32m      2\u001b[0m \u001b[0mfirst_name\u001b[0m \u001b[1;33m==\u001b[0m \u001b[1;34m\"John\"\u001b[0m    \u001b[1;31m# variable equal to string literal\u001b[0m\u001b[1;33m\u001b[0m\u001b[1;33m\u001b[0m\u001b[0m\n\u001b[0;32m      3\u001b[0m \u001b[0mquantity\u001b[0m \u001b[1;33m!=\u001b[0m \u001b[1;36m0\u001b[0m           \u001b[1;31m# variable not equal to numeric literal\u001b[0m\u001b[1;33m\u001b[0m\u001b[1;33m\u001b[0m\u001b[0m\n\u001b[0;32m      4\u001b[0m \u001b[0mdistance\u001b[0m \u001b[1;33m>\u001b[0m \u001b[1;36m5.6\u001b[0m          \u001b[1;31m# variable greater than numeric literal\u001b[0m\u001b[1;33m\u001b[0m\u001b[1;33m\u001b[0m\u001b[0m\n\u001b[0;32m      5\u001b[0m \u001b[0mfuel_req\u001b[0m \u001b[1;33m<\u001b[0m \u001b[0mfuel_cap\u001b[0m     \u001b[1;31m# variable less than variable\u001b[0m\u001b[1;33m\u001b[0m\u001b[1;33m\u001b[0m\u001b[0m\n",
      "\u001b[1;31mNameError\u001b[0m: name 'age' is not defined"
     ]
    }
   ],
   "source": [
    "age == 5                # variable equal to numeric literal\n",
    "first_name == \"John\"    # variable equal to string literal\n",
    "quantity != 0           # variable not equal to numeric literal\n",
    "distance > 5.6          # variable greater than numeric literal\n",
    "fuel_req < fuel_cap     # variable less than variable\n",
    "distance >= limit       # variable greater than or equal to variable\n",
    "stock <= reorder_point  # variable less than or equal to variable\n",
    "rate / 100 >= 0.1      # expression greater than or equal to literal"
   ]
  },
  {
   "cell_type": "code",
   "execution_count": 77,
   "metadata": {},
   "outputs": [
    {
     "data": {
      "text/plain": [
       "False"
      ]
     },
     "execution_count": 77,
     "metadata": {},
     "output_type": "execute_result"
    }
   ],
   "source": [
    "\"apple\" < \"Apple\""
   ]
  },
  {
   "cell_type": "code",
   "execution_count": 78,
   "metadata": {},
   "outputs": [
    {
     "data": {
      "text/plain": [
       "True"
      ]
     },
     "execution_count": 78,
     "metadata": {},
     "output_type": "execute_result"
    }
   ],
   "source": [
    "\"Appl\" < \"Apple\""
   ]
  },
  {
   "cell_type": "code",
   "execution_count": 79,
   "metadata": {},
   "outputs": [
    {
     "name": "stdout",
     "output_type": "stream",
     "text": [
      "Mary\n",
      "mary\n"
     ]
    }
   ],
   "source": [
    "string1 = \"Mary\"\n",
    "string2 = \"mary\"\n",
    "string1 == string2                  # False\n",
    "string1.lower() == string2.lower()  # True\n",
    "print(string1)                      # prints 'Mary'\n",
    "print(string2)                      "
   ]
  },
  {
   "cell_type": "code",
   "execution_count": 81,
   "metadata": {},
   "outputs": [
    {
     "name": "stdout",
     "output_type": "stream",
     "text": [
      "True\n"
     ]
    }
   ],
   "source": [
    "print(string1.lower() == string2.lower())"
   ]
  },
  {
   "cell_type": "code",
   "execution_count": 83,
   "metadata": {},
   "outputs": [
    {
     "data": {
      "text/plain": [
       "True"
      ]
     },
     "execution_count": 83,
     "metadata": {},
     "output_type": "execute_result"
    }
   ],
   "source": [
    "customer_type =\"r\" \n",
    "customer_type.lower() == \"r\""
   ]
  },
  {
   "cell_type": "code",
   "execution_count": 85,
   "metadata": {
    "scrolled": true
   },
   "outputs": [
    {
     "name": "stdout",
     "output_type": "stream",
     "text": [
      "The Miles Per Gallon program\n",
      "\n",
      "Enter miles driven:         12\n",
      "Enter gallons of gas used:  22\n",
      "Miles Per Gallon:           0.55\n",
      "\n",
      "Bye\n"
     ]
    }
   ],
   "source": [
    "# display a welcome message\n",
    "print(\"The Miles Per Gallon program\")\n",
    "print()\n",
    "# get input from the user\n",
    "miles_driven = float(input(\"Enter miles driven:         \"))\n",
    "gallons_used = float(input(\"Enter gallons of gas used:  \"))\n",
    "if miles_driven <= 0:\n",
    "    print(\"Miles driven must be greater than zero. Try again.\")\n",
    "elif gallons_used <= 0:\n",
    "    print(\"Gallons used must be greater than zero. Try again.\")\n",
    "else:\n",
    "    # calculate and display miles per gallon\n",
    "    mpg = round((miles_driven / gallons_used), 2)\n",
    "    print(\"Miles Per Gallon:          \", mpg)\n",
    "print()\n",
    "print(\"Bye\")"
   ]
  },
  {
   "cell_type": "code",
   "execution_count": null,
   "metadata": {},
   "outputs": [],
   "source": []
  }
 ],
 "metadata": {
  "kernelspec": {
   "display_name": "Python 3",
   "language": "python",
   "name": "python3"
  },
  "language_info": {
   "codemirror_mode": {
    "name": "ipython",
    "version": 3
   },
   "file_extension": ".py",
   "mimetype": "text/x-python",
   "name": "python",
   "nbconvert_exporter": "python",
   "pygments_lexer": "ipython3",
   "version": "3.7.4"
  }
 },
 "nbformat": 4,
 "nbformat_minor": 2
}
