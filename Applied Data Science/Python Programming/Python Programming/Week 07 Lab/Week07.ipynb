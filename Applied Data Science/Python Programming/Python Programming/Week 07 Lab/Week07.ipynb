{
  "nbformat": 4,
  "nbformat_minor": 0,
  "metadata": {
    "colab": {
      "name": "Week07.ipynb",
      "provenance": [],
      "collapsed_sections": []
    },
    "kernelspec": {
      "name": "python3",
      "display_name": "Python 3"
    }
  },
  "cells": [
    {
      "cell_type": "code",
      "metadata": {
        "id": "z-u4bSlqCJXD",
        "colab_type": "code",
        "colab": {}
      },
      "source": [
        "def say_hello():\n",
        "  print(\"Hello\")\n"
      ],
      "execution_count": 0,
      "outputs": []
    },
    {
      "cell_type": "code",
      "metadata": {
        "id": "pBsU0J8SCcDj",
        "colab_type": "code",
        "colab": {
          "base_uri": "https://localhost:8080/",
          "height": 34
        },
        "outputId": "16557348-8e57-47cf-eb8f-b0d976a229be"
      },
      "source": [
        "say_hello()"
      ],
      "execution_count": 18,
      "outputs": [
        {
          "output_type": "stream",
          "text": [
            "Hello\n"
          ],
          "name": "stdout"
        }
      ]
    },
    {
      "cell_type": "code",
      "metadata": {
        "id": "pdPniIYRCeQD",
        "colab_type": "code",
        "colab": {}
      },
      "source": [
        "def say_hello(firstName, lastName):\n",
        "  print(\"Hello \"+ firstName + \" and \" +lastName)"
      ],
      "execution_count": 0,
      "outputs": []
    },
    {
      "cell_type": "code",
      "metadata": {
        "id": "fD0upODOCyh4",
        "colab_type": "code",
        "colab": {
          "base_uri": "https://localhost:8080/",
          "height": 34
        },
        "outputId": "7f69f17a-f827-4da4-e180-6ece2356cb4b"
      },
      "source": [
        "say_hello(\"Reza\", \"John\")"
      ],
      "execution_count": 25,
      "outputs": [
        {
          "output_type": "stream",
          "text": [
            "Hello Reza and John\n"
          ],
          "name": "stdout"
        }
      ]
    },
    {
      "cell_type": "code",
      "metadata": {
        "id": "zd40HaZEC7ZP",
        "colab_type": "code",
        "colab": {
          "base_uri": "https://localhost:8080/",
          "height": 34
        },
        "outputId": "74737658-103e-459a-9375-ea1ded31a0a1"
      },
      "source": [
        "value=say_hello(\"Reza\", \"John\")"
      ],
      "execution_count": 8,
      "outputs": [
        {
          "output_type": "stream",
          "text": [
            "Hello Reza and John\n"
          ],
          "name": "stdout"
        }
      ]
    },
    {
      "cell_type": "code",
      "metadata": {
        "id": "ZIZKchAfDJIs",
        "colab_type": "code",
        "colab": {
          "base_uri": "https://localhost:8080/",
          "height": 34
        },
        "outputId": "9822d5c9-146f-439d-c376-7066419af96e"
      },
      "source": [
        "print(value)"
      ],
      "execution_count": 9,
      "outputs": [
        {
          "output_type": "stream",
          "text": [
            "None\n"
          ],
          "name": "stdout"
        }
      ]
    },
    {
      "cell_type": "code",
      "metadata": {
        "id": "SiuitER5DLOT",
        "colab_type": "code",
        "colab": {}
      },
      "source": [
        "def say_hello(*args):\n",
        "  greeting=\"Hello \"\n",
        "  for person in args:\n",
        "    greeting+=person + \", \"\n",
        "  return greeting[:-2]"
      ],
      "execution_count": 0,
      "outputs": []
    },
    {
      "cell_type": "code",
      "metadata": {
        "id": "gIFtvjHkDp2e",
        "colab_type": "code",
        "colab": {
          "base_uri": "https://localhost:8080/",
          "height": 34
        },
        "outputId": "52ac53a7-e85e-485a-cc13-754776ddc34f"
      },
      "source": [
        "say_hello(\"Reza\", \"John\", \"Thomas\", \"Natalie\", \"Martin\")"
      ],
      "execution_count": 29,
      "outputs": [
        {
          "output_type": "execute_result",
          "data": {
            "text/plain": [
              "'Hello Reza, John, Thomas, Natalie, Martin, '"
            ]
          },
          "metadata": {
            "tags": []
          },
          "execution_count": 29
        }
      ]
    },
    {
      "cell_type": "code",
      "metadata": {
        "id": "OlIGiqgDD-ax",
        "colab_type": "code",
        "colab": {}
      },
      "source": [
        "def say_hello(*args):\n",
        "  \"\"\"\n",
        "  This is written by Reza... Honestly!\n",
        "  Written at 2020-02-19\n",
        "  \"\"\"\n",
        "  greeting=\"Hello \"\n",
        "  for person in args:\n",
        "    greeting+=person + \", \"\n",
        "  return greeting[:-2]"
      ],
      "execution_count": 0,
      "outputs": []
    },
    {
      "cell_type": "code",
      "metadata": {
        "id": "3w8nN2X_ENHm",
        "colab_type": "code",
        "colab": {
          "base_uri": "https://localhost:8080/",
          "height": 122
        },
        "outputId": "ea487922-3e45-4cc6-ff18-8c63795fd23a"
      },
      "source": [
        "help(say_hello)"
      ],
      "execution_count": 31,
      "outputs": [
        {
          "output_type": "stream",
          "text": [
            "Help on function say_hello in module __main__:\n",
            "\n",
            "say_hello(*args)\n",
            "    This is written by Reza... Honestly!\n",
            "    Written at 2020-02-19\n",
            "\n"
          ],
          "name": "stdout"
        }
      ]
    },
    {
      "cell_type": "code",
      "metadata": {
        "id": "TcG0mKumFOxg",
        "colab_type": "code",
        "colab": {
          "base_uri": "https://localhost:8080/",
          "height": 175
        },
        "outputId": "c1aa174a-0793-4d77-c746-6584a6e2ef9d"
      },
      "source": [
        "help(input)"
      ],
      "execution_count": 15,
      "outputs": [
        {
          "output_type": "stream",
          "text": [
            "Help on method raw_input in module ipykernel.kernelbase:\n",
            "\n",
            "raw_input(prompt='') method of google.colab._kernel.Kernel instance\n",
            "    Forward raw_input to frontends\n",
            "    \n",
            "    Raises\n",
            "    ------\n",
            "    StdinNotImplentedError if active frontend doesn't support stdin.\n",
            "\n"
          ],
          "name": "stdout"
        }
      ]
    },
    {
      "cell_type": "code",
      "metadata": {
        "id": "g_ezdakFFS7x",
        "colab_type": "code",
        "colab": {}
      },
      "source": [
        "CourseCode=2152"
      ],
      "execution_count": 0,
      "outputs": []
    },
    {
      "cell_type": "code",
      "metadata": {
        "id": "a_XkXz7pFY8o",
        "colab_type": "code",
        "colab": {}
      },
      "source": [
        "def say_hello(*args):\n",
        "  \"\"\"\n",
        "  This is written by Reza... Honestly!\n",
        "  \"\"\"\n",
        "  greeting=\"Hello \"\n",
        "  for person in args:\n",
        "    greeting+=person + \", \"\n",
        "  return greeting[:-2]"
      ],
      "execution_count": 0,
      "outputs": []
    }
  ]
}