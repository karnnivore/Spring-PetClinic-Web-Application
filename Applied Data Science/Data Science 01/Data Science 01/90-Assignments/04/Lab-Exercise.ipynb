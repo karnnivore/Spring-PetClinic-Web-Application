{
 "cells": [
  {
   "cell_type": "markdown",
   "metadata": {},
   "source": [
    "# Reza Dibaj"
   ]
  },
  {
   "cell_type": "code",
   "execution_count": 1,
   "metadata": {},
   "outputs": [],
   "source": [
    "import pandas as pd"
   ]
  },
  {
   "cell_type": "code",
   "execution_count": 2,
   "metadata": {},
   "outputs": [],
   "source": [
    "myDF=pd.read_csv('test.csv')"
   ]
  },
  {
   "cell_type": "code",
   "execution_count": 3,
   "metadata": {},
   "outputs": [
    {
     "data": {
      "text/html": [
       "<div>\n",
       "<style scoped>\n",
       "    .dataframe tbody tr th:only-of-type {\n",
       "        vertical-align: middle;\n",
       "    }\n",
       "\n",
       "    .dataframe tbody tr th {\n",
       "        vertical-align: top;\n",
       "    }\n",
       "\n",
       "    .dataframe thead th {\n",
       "        text-align: right;\n",
       "    }\n",
       "</style>\n",
       "<table border=\"1\" class=\"dataframe\">\n",
       "  <thead>\n",
       "    <tr style=\"text-align: right;\">\n",
       "      <th></th>\n",
       "      <th>ID</th>\n",
       "      <th>Range</th>\n",
       "      <th>Value</th>\n",
       "      <th>Type</th>\n",
       "      <th>Zip Code</th>\n",
       "      <th>Model</th>\n",
       "      <th>Cost</th>\n",
       "      <th>Continent</th>\n",
       "    </tr>\n",
       "  </thead>\n",
       "  <tbody>\n",
       "    <tr>\n",
       "      <th>0</th>\n",
       "      <td>10</td>\n",
       "      <td>192</td>\n",
       "      <td>50</td>\n",
       "      <td>F</td>\n",
       "      <td>NXEYEM</td>\n",
       "      <td>EX85</td>\n",
       "      <td>[56$]</td>\n",
       "      <td>Asia</td>\n",
       "    </tr>\n",
       "    <tr>\n",
       "      <th>1</th>\n",
       "      <td>20</td>\n",
       "      <td>299</td>\n",
       "      <td>21</td>\n",
       "      <td>M</td>\n",
       "      <td>VNFKZD</td>\n",
       "      <td>CT41</td>\n",
       "      <td>[18$]</td>\n",
       "      <td>Asia</td>\n",
       "    </tr>\n",
       "    <tr>\n",
       "      <th>2</th>\n",
       "      <td>30</td>\n",
       "      <td>378</td>\n",
       "      <td>28</td>\n",
       "      <td>X</td>\n",
       "      <td>IMGMFY</td>\n",
       "      <td>VN81</td>\n",
       "      <td>[90$]</td>\n",
       "      <td>North America</td>\n",
       "    </tr>\n",
       "  </tbody>\n",
       "</table>\n",
       "</div>"
      ],
      "text/plain": [
       "   ID  Range  Value Type Zip Code Model   Cost      Continent\n",
       "0  10    192     50    F   NXEYEM  EX85  [56$]           Asia\n",
       "1  20    299     21    M   VNFKZD  CT41  [18$]           Asia\n",
       "2  30    378     28    X   IMGMFY  VN81  [90$]  North America"
      ]
     },
     "execution_count": 3,
     "metadata": {},
     "output_type": "execute_result"
    }
   ],
   "source": [
    "myDF.head(3)"
   ]
  },
  {
   "cell_type": "code",
   "execution_count": 4,
   "metadata": {},
   "outputs": [
    {
     "data": {
      "text/html": [
       "<div>\n",
       "<style scoped>\n",
       "    .dataframe tbody tr th:only-of-type {\n",
       "        vertical-align: middle;\n",
       "    }\n",
       "\n",
       "    .dataframe tbody tr th {\n",
       "        vertical-align: top;\n",
       "    }\n",
       "\n",
       "    .dataframe thead th {\n",
       "        text-align: right;\n",
       "    }\n",
       "</style>\n",
       "<table border=\"1\" class=\"dataframe\">\n",
       "  <thead>\n",
       "    <tr style=\"text-align: right;\">\n",
       "      <th></th>\n",
       "      <th>ID</th>\n",
       "      <th>Range</th>\n",
       "      <th>Value</th>\n",
       "      <th>Type</th>\n",
       "      <th>Zip Code</th>\n",
       "      <th>Cost</th>\n",
       "      <th>Continent</th>\n",
       "    </tr>\n",
       "  </thead>\n",
       "  <tbody>\n",
       "    <tr>\n",
       "      <th>0</th>\n",
       "      <td>10</td>\n",
       "      <td>192</td>\n",
       "      <td>50</td>\n",
       "      <td>F</td>\n",
       "      <td>NXEYEM</td>\n",
       "      <td>[56$]</td>\n",
       "      <td>Asia</td>\n",
       "    </tr>\n",
       "    <tr>\n",
       "      <th>1</th>\n",
       "      <td>20</td>\n",
       "      <td>299</td>\n",
       "      <td>21</td>\n",
       "      <td>M</td>\n",
       "      <td>VNFKZD</td>\n",
       "      <td>[18$]</td>\n",
       "      <td>Asia</td>\n",
       "    </tr>\n",
       "    <tr>\n",
       "      <th>2</th>\n",
       "      <td>30</td>\n",
       "      <td>378</td>\n",
       "      <td>28</td>\n",
       "      <td>X</td>\n",
       "      <td>IMGMFY</td>\n",
       "      <td>[90$]</td>\n",
       "      <td>North America</td>\n",
       "    </tr>\n",
       "    <tr>\n",
       "      <th>3</th>\n",
       "      <td>40</td>\n",
       "      <td>156</td>\n",
       "      <td>44</td>\n",
       "      <td>Q</td>\n",
       "      <td>RHRHJY</td>\n",
       "      <td>[89$]</td>\n",
       "      <td>Asia</td>\n",
       "    </tr>\n",
       "    <tr>\n",
       "      <th>4</th>\n",
       "      <td>50</td>\n",
       "      <td>468</td>\n",
       "      <td>33</td>\n",
       "      <td>J</td>\n",
       "      <td>HPQCMC</td>\n",
       "      <td>[95$]</td>\n",
       "      <td>Africa</td>\n",
       "    </tr>\n",
       "    <tr>\n",
       "      <th>5</th>\n",
       "      <td>60</td>\n",
       "      <td>347</td>\n",
       "      <td>38</td>\n",
       "      <td>X</td>\n",
       "      <td>XFEWVB</td>\n",
       "      <td>[95$]</td>\n",
       "      <td>North America</td>\n",
       "    </tr>\n",
       "    <tr>\n",
       "      <th>6</th>\n",
       "      <td>70</td>\n",
       "      <td>327</td>\n",
       "      <td>24</td>\n",
       "      <td>F</td>\n",
       "      <td>NLVQPY</td>\n",
       "      <td>[25$]</td>\n",
       "      <td>Europe</td>\n",
       "    </tr>\n",
       "    <tr>\n",
       "      <th>7</th>\n",
       "      <td>80</td>\n",
       "      <td>495</td>\n",
       "      <td>50</td>\n",
       "      <td>Z</td>\n",
       "      <td>DLUMAX</td>\n",
       "      <td>[70$]</td>\n",
       "      <td>Antarctica</td>\n",
       "    </tr>\n",
       "    <tr>\n",
       "      <th>8</th>\n",
       "      <td>90</td>\n",
       "      <td>115</td>\n",
       "      <td>30</td>\n",
       "      <td>S</td>\n",
       "      <td>KYJUHA</td>\n",
       "      <td>[17$]</td>\n",
       "      <td>South America</td>\n",
       "    </tr>\n",
       "    <tr>\n",
       "      <th>9</th>\n",
       "      <td>100</td>\n",
       "      <td>347</td>\n",
       "      <td>30</td>\n",
       "      <td>K</td>\n",
       "      <td>RSVMXY</td>\n",
       "      <td>[13$]</td>\n",
       "      <td>South America</td>\n",
       "    </tr>\n",
       "    <tr>\n",
       "      <th>10</th>\n",
       "      <td>110</td>\n",
       "      <td>301</td>\n",
       "      <td>29</td>\n",
       "      <td>A</td>\n",
       "      <td>OVINZU</td>\n",
       "      <td>[69$]</td>\n",
       "      <td>South America</td>\n",
       "    </tr>\n",
       "    <tr>\n",
       "      <th>11</th>\n",
       "      <td>120</td>\n",
       "      <td>438</td>\n",
       "      <td>50</td>\n",
       "      <td>W</td>\n",
       "      <td>CDEXEM</td>\n",
       "      <td>[95$]</td>\n",
       "      <td>Australia</td>\n",
       "    </tr>\n",
       "    <tr>\n",
       "      <th>12</th>\n",
       "      <td>130</td>\n",
       "      <td>345</td>\n",
       "      <td>16</td>\n",
       "      <td>F</td>\n",
       "      <td>BRUXMN</td>\n",
       "      <td>[41$]</td>\n",
       "      <td>Australia</td>\n",
       "    </tr>\n",
       "    <tr>\n",
       "      <th>13</th>\n",
       "      <td>140</td>\n",
       "      <td>417</td>\n",
       "      <td>24</td>\n",
       "      <td>H</td>\n",
       "      <td>UKXYWY</td>\n",
       "      <td>[50$]</td>\n",
       "      <td>Asia</td>\n",
       "    </tr>\n",
       "    <tr>\n",
       "      <th>14</th>\n",
       "      <td>150</td>\n",
       "      <td>232</td>\n",
       "      <td>23</td>\n",
       "      <td>M</td>\n",
       "      <td>HXBAXY</td>\n",
       "      <td>[10$]</td>\n",
       "      <td>Australia</td>\n",
       "    </tr>\n",
       "    <tr>\n",
       "      <th>15</th>\n",
       "      <td>160</td>\n",
       "      <td>188</td>\n",
       "      <td>13</td>\n",
       "      <td>F</td>\n",
       "      <td>QELSTQ</td>\n",
       "      <td>[16$]</td>\n",
       "      <td>Asia</td>\n",
       "    </tr>\n",
       "    <tr>\n",
       "      <th>16</th>\n",
       "      <td>170</td>\n",
       "      <td>360</td>\n",
       "      <td>26</td>\n",
       "      <td>G</td>\n",
       "      <td>KXUJMO</td>\n",
       "      <td>[81$]</td>\n",
       "      <td>Antarctica</td>\n",
       "    </tr>\n",
       "    <tr>\n",
       "      <th>17</th>\n",
       "      <td>180</td>\n",
       "      <td>352</td>\n",
       "      <td>38</td>\n",
       "      <td>R</td>\n",
       "      <td>CEGPJA</td>\n",
       "      <td>[53$]</td>\n",
       "      <td>North America</td>\n",
       "    </tr>\n",
       "    <tr>\n",
       "      <th>18</th>\n",
       "      <td>190</td>\n",
       "      <td>304</td>\n",
       "      <td>26</td>\n",
       "      <td>J</td>\n",
       "      <td>OLGTVE</td>\n",
       "      <td>[97$]</td>\n",
       "      <td>Africa</td>\n",
       "    </tr>\n",
       "    <tr>\n",
       "      <th>19</th>\n",
       "      <td>200</td>\n",
       "      <td>192</td>\n",
       "      <td>49</td>\n",
       "      <td>U</td>\n",
       "      <td>ONLQHK</td>\n",
       "      <td>[31$]</td>\n",
       "      <td>South America</td>\n",
       "    </tr>\n",
       "    <tr>\n",
       "      <th>20</th>\n",
       "      <td>210</td>\n",
       "      <td>454</td>\n",
       "      <td>12</td>\n",
       "      <td>J</td>\n",
       "      <td>PFFXMV</td>\n",
       "      <td>[71$]</td>\n",
       "      <td>Antarctica</td>\n",
       "    </tr>\n",
       "    <tr>\n",
       "      <th>21</th>\n",
       "      <td>220</td>\n",
       "      <td>354</td>\n",
       "      <td>27</td>\n",
       "      <td>Q</td>\n",
       "      <td>ARYVAU</td>\n",
       "      <td>[66$]</td>\n",
       "      <td>Asia</td>\n",
       "    </tr>\n",
       "    <tr>\n",
       "      <th>22</th>\n",
       "      <td>230</td>\n",
       "      <td>461</td>\n",
       "      <td>45</td>\n",
       "      <td>K</td>\n",
       "      <td>GYZQVT</td>\n",
       "      <td>[49$]</td>\n",
       "      <td>Europe</td>\n",
       "    </tr>\n",
       "    <tr>\n",
       "      <th>23</th>\n",
       "      <td>240</td>\n",
       "      <td>198</td>\n",
       "      <td>34</td>\n",
       "      <td>O</td>\n",
       "      <td>BFIAMZ</td>\n",
       "      <td>[42$]</td>\n",
       "      <td>Antarctica</td>\n",
       "    </tr>\n",
       "    <tr>\n",
       "      <th>24</th>\n",
       "      <td>250</td>\n",
       "      <td>191</td>\n",
       "      <td>25</td>\n",
       "      <td>O</td>\n",
       "      <td>LNLEKN</td>\n",
       "      <td>[33$]</td>\n",
       "      <td>Australia</td>\n",
       "    </tr>\n",
       "    <tr>\n",
       "      <th>25</th>\n",
       "      <td>260</td>\n",
       "      <td>207</td>\n",
       "      <td>39</td>\n",
       "      <td>A</td>\n",
       "      <td>JIUXUY</td>\n",
       "      <td>[59$]</td>\n",
       "      <td>Antarctica</td>\n",
       "    </tr>\n",
       "    <tr>\n",
       "      <th>26</th>\n",
       "      <td>270</td>\n",
       "      <td>404</td>\n",
       "      <td>15</td>\n",
       "      <td>D</td>\n",
       "      <td>KCAQDT</td>\n",
       "      <td>[23$]</td>\n",
       "      <td>South America</td>\n",
       "    </tr>\n",
       "    <tr>\n",
       "      <th>27</th>\n",
       "      <td>280</td>\n",
       "      <td>152</td>\n",
       "      <td>17</td>\n",
       "      <td>E</td>\n",
       "      <td>RMYMXT</td>\n",
       "      <td>[92$]</td>\n",
       "      <td>Antarctica</td>\n",
       "    </tr>\n",
       "    <tr>\n",
       "      <th>28</th>\n",
       "      <td>290</td>\n",
       "      <td>487</td>\n",
       "      <td>16</td>\n",
       "      <td>X</td>\n",
       "      <td>WVVYSF</td>\n",
       "      <td>[96$]</td>\n",
       "      <td>Australia</td>\n",
       "    </tr>\n",
       "    <tr>\n",
       "      <th>29</th>\n",
       "      <td>300</td>\n",
       "      <td>277</td>\n",
       "      <td>48</td>\n",
       "      <td>V</td>\n",
       "      <td>XQITCB</td>\n",
       "      <td>[23$]</td>\n",
       "      <td>North America</td>\n",
       "    </tr>\n",
       "    <tr>\n",
       "      <th>...</th>\n",
       "      <td>...</td>\n",
       "      <td>...</td>\n",
       "      <td>...</td>\n",
       "      <td>...</td>\n",
       "      <td>...</td>\n",
       "      <td>...</td>\n",
       "      <td>...</td>\n",
       "    </tr>\n",
       "    <tr>\n",
       "      <th>920</th>\n",
       "      <td>9210</td>\n",
       "      <td>446</td>\n",
       "      <td>27</td>\n",
       "      <td>H</td>\n",
       "      <td>WQCBIF</td>\n",
       "      <td>[52$]</td>\n",
       "      <td>Africa</td>\n",
       "    </tr>\n",
       "    <tr>\n",
       "      <th>921</th>\n",
       "      <td>9220</td>\n",
       "      <td>339</td>\n",
       "      <td>20</td>\n",
       "      <td>S</td>\n",
       "      <td>AEYUDF</td>\n",
       "      <td>[22$]</td>\n",
       "      <td>North America</td>\n",
       "    </tr>\n",
       "    <tr>\n",
       "      <th>922</th>\n",
       "      <td>9230</td>\n",
       "      <td>276</td>\n",
       "      <td>30</td>\n",
       "      <td>C</td>\n",
       "      <td>CYADRG</td>\n",
       "      <td>[81$]</td>\n",
       "      <td>North America</td>\n",
       "    </tr>\n",
       "    <tr>\n",
       "      <th>923</th>\n",
       "      <td>9240</td>\n",
       "      <td>470</td>\n",
       "      <td>34</td>\n",
       "      <td>O</td>\n",
       "      <td>MNMDQL</td>\n",
       "      <td>[13$]</td>\n",
       "      <td>South America</td>\n",
       "    </tr>\n",
       "    <tr>\n",
       "      <th>924</th>\n",
       "      <td>9250</td>\n",
       "      <td>438</td>\n",
       "      <td>38</td>\n",
       "      <td>M</td>\n",
       "      <td>QWXGCQ</td>\n",
       "      <td>[55$]</td>\n",
       "      <td>South America</td>\n",
       "    </tr>\n",
       "    <tr>\n",
       "      <th>925</th>\n",
       "      <td>9260</td>\n",
       "      <td>452</td>\n",
       "      <td>20</td>\n",
       "      <td>W</td>\n",
       "      <td>VULMZN</td>\n",
       "      <td>[80$]</td>\n",
       "      <td>Antarctica</td>\n",
       "    </tr>\n",
       "    <tr>\n",
       "      <th>926</th>\n",
       "      <td>9270</td>\n",
       "      <td>155</td>\n",
       "      <td>27</td>\n",
       "      <td>Q</td>\n",
       "      <td>UBTZPH</td>\n",
       "      <td>[64$]</td>\n",
       "      <td>South America</td>\n",
       "    </tr>\n",
       "    <tr>\n",
       "      <th>927</th>\n",
       "      <td>9280</td>\n",
       "      <td>447</td>\n",
       "      <td>45</td>\n",
       "      <td>A</td>\n",
       "      <td>EAXIJY</td>\n",
       "      <td>[66$]</td>\n",
       "      <td>Africa</td>\n",
       "    </tr>\n",
       "    <tr>\n",
       "      <th>928</th>\n",
       "      <td>9290</td>\n",
       "      <td>160</td>\n",
       "      <td>28</td>\n",
       "      <td>Q</td>\n",
       "      <td>MUVJKT</td>\n",
       "      <td>[17$]</td>\n",
       "      <td>Antarctica</td>\n",
       "    </tr>\n",
       "    <tr>\n",
       "      <th>929</th>\n",
       "      <td>9300</td>\n",
       "      <td>344</td>\n",
       "      <td>23</td>\n",
       "      <td>S</td>\n",
       "      <td>YRWLCJ</td>\n",
       "      <td>[10$]</td>\n",
       "      <td>Asia</td>\n",
       "    </tr>\n",
       "    <tr>\n",
       "      <th>930</th>\n",
       "      <td>9310</td>\n",
       "      <td>420</td>\n",
       "      <td>11</td>\n",
       "      <td>O</td>\n",
       "      <td>GYGYXV</td>\n",
       "      <td>[35$]</td>\n",
       "      <td>Australia</td>\n",
       "    </tr>\n",
       "    <tr>\n",
       "      <th>931</th>\n",
       "      <td>9320</td>\n",
       "      <td>302</td>\n",
       "      <td>30</td>\n",
       "      <td>C</td>\n",
       "      <td>MZEFTD</td>\n",
       "      <td>[69$]</td>\n",
       "      <td>South America</td>\n",
       "    </tr>\n",
       "    <tr>\n",
       "      <th>932</th>\n",
       "      <td>9330</td>\n",
       "      <td>258</td>\n",
       "      <td>14</td>\n",
       "      <td>P</td>\n",
       "      <td>MCWQKU</td>\n",
       "      <td>[81$]</td>\n",
       "      <td>Asia</td>\n",
       "    </tr>\n",
       "    <tr>\n",
       "      <th>933</th>\n",
       "      <td>9340</td>\n",
       "      <td>493</td>\n",
       "      <td>48</td>\n",
       "      <td>O</td>\n",
       "      <td>SARMAQ</td>\n",
       "      <td>[23$]</td>\n",
       "      <td>Europe</td>\n",
       "    </tr>\n",
       "    <tr>\n",
       "      <th>934</th>\n",
       "      <td>9350</td>\n",
       "      <td>492</td>\n",
       "      <td>46</td>\n",
       "      <td>S</td>\n",
       "      <td>GGVKSH</td>\n",
       "      <td>[61$]</td>\n",
       "      <td>South America</td>\n",
       "    </tr>\n",
       "    <tr>\n",
       "      <th>935</th>\n",
       "      <td>9360</td>\n",
       "      <td>194</td>\n",
       "      <td>10</td>\n",
       "      <td>Q</td>\n",
       "      <td>QVMEWD</td>\n",
       "      <td>[27$]</td>\n",
       "      <td>Australia</td>\n",
       "    </tr>\n",
       "    <tr>\n",
       "      <th>936</th>\n",
       "      <td>9370</td>\n",
       "      <td>470</td>\n",
       "      <td>11</td>\n",
       "      <td>F</td>\n",
       "      <td>SRIDAU</td>\n",
       "      <td>[49$]</td>\n",
       "      <td>Antarctica</td>\n",
       "    </tr>\n",
       "    <tr>\n",
       "      <th>937</th>\n",
       "      <td>9380</td>\n",
       "      <td>156</td>\n",
       "      <td>21</td>\n",
       "      <td>Q</td>\n",
       "      <td>KVPMGB</td>\n",
       "      <td>[57$]</td>\n",
       "      <td>North America</td>\n",
       "    </tr>\n",
       "    <tr>\n",
       "      <th>938</th>\n",
       "      <td>9390</td>\n",
       "      <td>419</td>\n",
       "      <td>17</td>\n",
       "      <td>K</td>\n",
       "      <td>NHKNHJ</td>\n",
       "      <td>[63$]</td>\n",
       "      <td>Asia</td>\n",
       "    </tr>\n",
       "    <tr>\n",
       "      <th>939</th>\n",
       "      <td>9400</td>\n",
       "      <td>154</td>\n",
       "      <td>21</td>\n",
       "      <td>F</td>\n",
       "      <td>LBSHFH</td>\n",
       "      <td>[76$]</td>\n",
       "      <td>South America</td>\n",
       "    </tr>\n",
       "    <tr>\n",
       "      <th>940</th>\n",
       "      <td>9410</td>\n",
       "      <td>241</td>\n",
       "      <td>17</td>\n",
       "      <td>F</td>\n",
       "      <td>HRTMSS</td>\n",
       "      <td>[35$]</td>\n",
       "      <td>Australia</td>\n",
       "    </tr>\n",
       "    <tr>\n",
       "      <th>941</th>\n",
       "      <td>9420</td>\n",
       "      <td>216</td>\n",
       "      <td>15</td>\n",
       "      <td>V</td>\n",
       "      <td>LDCQOE</td>\n",
       "      <td>[70$]</td>\n",
       "      <td>Europe</td>\n",
       "    </tr>\n",
       "    <tr>\n",
       "      <th>942</th>\n",
       "      <td>9430</td>\n",
       "      <td>135</td>\n",
       "      <td>10</td>\n",
       "      <td>C</td>\n",
       "      <td>SSGNKF</td>\n",
       "      <td>[15$]</td>\n",
       "      <td>Africa</td>\n",
       "    </tr>\n",
       "    <tr>\n",
       "      <th>943</th>\n",
       "      <td>9440</td>\n",
       "      <td>247</td>\n",
       "      <td>27</td>\n",
       "      <td>F</td>\n",
       "      <td>IHSRJV</td>\n",
       "      <td>[58$]</td>\n",
       "      <td>North America</td>\n",
       "    </tr>\n",
       "    <tr>\n",
       "      <th>944</th>\n",
       "      <td>9450</td>\n",
       "      <td>152</td>\n",
       "      <td>27</td>\n",
       "      <td>Q</td>\n",
       "      <td>MMLMCH</td>\n",
       "      <td>[36$]</td>\n",
       "      <td>Africa</td>\n",
       "    </tr>\n",
       "    <tr>\n",
       "      <th>945</th>\n",
       "      <td>9460</td>\n",
       "      <td>136</td>\n",
       "      <td>12</td>\n",
       "      <td>C</td>\n",
       "      <td>HGVBPV</td>\n",
       "      <td>[51$]</td>\n",
       "      <td>South America</td>\n",
       "    </tr>\n",
       "    <tr>\n",
       "      <th>946</th>\n",
       "      <td>9470</td>\n",
       "      <td>316</td>\n",
       "      <td>46</td>\n",
       "      <td>L</td>\n",
       "      <td>SHBAUD</td>\n",
       "      <td>[33$]</td>\n",
       "      <td>North America</td>\n",
       "    </tr>\n",
       "    <tr>\n",
       "      <th>947</th>\n",
       "      <td>9480</td>\n",
       "      <td>461</td>\n",
       "      <td>46</td>\n",
       "      <td>K</td>\n",
       "      <td>PUZUVO</td>\n",
       "      <td>[12$]</td>\n",
       "      <td>Europe</td>\n",
       "    </tr>\n",
       "    <tr>\n",
       "      <th>948</th>\n",
       "      <td>9490</td>\n",
       "      <td>185</td>\n",
       "      <td>13</td>\n",
       "      <td>N</td>\n",
       "      <td>UMESZO</td>\n",
       "      <td>[39$]</td>\n",
       "      <td>North America</td>\n",
       "    </tr>\n",
       "    <tr>\n",
       "      <th>949</th>\n",
       "      <td>9500</td>\n",
       "      <td>137</td>\n",
       "      <td>10</td>\n",
       "      <td>W</td>\n",
       "      <td>JOHHVL</td>\n",
       "      <td>[10$]</td>\n",
       "      <td>South America</td>\n",
       "    </tr>\n",
       "  </tbody>\n",
       "</table>\n",
       "<p>950 rows × 7 columns</p>\n",
       "</div>"
      ],
      "text/plain": [
       "       ID  Range  Value Type Zip Code   Cost      Continent\n",
       "0      10    192     50    F   NXEYEM  [56$]           Asia\n",
       "1      20    299     21    M   VNFKZD  [18$]           Asia\n",
       "2      30    378     28    X   IMGMFY  [90$]  North America\n",
       "3      40    156     44    Q   RHRHJY  [89$]           Asia\n",
       "4      50    468     33    J   HPQCMC  [95$]         Africa\n",
       "..    ...    ...    ...  ...      ...    ...            ...\n",
       "945  9460    136     12    C   HGVBPV  [51$]  South America\n",
       "946  9470    316     46    L   SHBAUD  [33$]  North America\n",
       "947  9480    461     46    K   PUZUVO  [12$]         Europe\n",
       "948  9490    185     13    N   UMESZO  [39$]  North America\n",
       "949  9500    137     10    W   JOHHVL  [10$]  South America\n",
       "\n",
       "[950 rows x 7 columns]"
      ]
     },
     "execution_count": 4,
     "metadata": {},
     "output_type": "execute_result"
    }
   ],
   "source": [
    "myDF.drop('Model', axis=1)"
   ]
  },
  {
   "cell_type": "code",
   "execution_count": 5,
   "metadata": {},
   "outputs": [],
   "source": [
    "myDF = myDF.drop('Model', axis=1)"
   ]
  },
  {
   "cell_type": "code",
   "execution_count": 6,
   "metadata": {},
   "outputs": [
    {
     "data": {
      "text/html": [
       "<div>\n",
       "<style scoped>\n",
       "    .dataframe tbody tr th:only-of-type {\n",
       "        vertical-align: middle;\n",
       "    }\n",
       "\n",
       "    .dataframe tbody tr th {\n",
       "        vertical-align: top;\n",
       "    }\n",
       "\n",
       "    .dataframe thead th {\n",
       "        text-align: right;\n",
       "    }\n",
       "</style>\n",
       "<table border=\"1\" class=\"dataframe\">\n",
       "  <thead>\n",
       "    <tr style=\"text-align: right;\">\n",
       "      <th></th>\n",
       "      <th>ID</th>\n",
       "      <th>Range</th>\n",
       "      <th>Value</th>\n",
       "      <th>Type</th>\n",
       "      <th>Zip Code</th>\n",
       "      <th>Cost</th>\n",
       "      <th>Continent</th>\n",
       "    </tr>\n",
       "  </thead>\n",
       "  <tbody>\n",
       "    <tr>\n",
       "      <th>0</th>\n",
       "      <td>10</td>\n",
       "      <td>192</td>\n",
       "      <td>50</td>\n",
       "      <td>F</td>\n",
       "      <td>NXEYEM</td>\n",
       "      <td>[56$]</td>\n",
       "      <td>Asia</td>\n",
       "    </tr>\n",
       "    <tr>\n",
       "      <th>1</th>\n",
       "      <td>20</td>\n",
       "      <td>299</td>\n",
       "      <td>21</td>\n",
       "      <td>M</td>\n",
       "      <td>VNFKZD</td>\n",
       "      <td>[18$]</td>\n",
       "      <td>Asia</td>\n",
       "    </tr>\n",
       "    <tr>\n",
       "      <th>2</th>\n",
       "      <td>30</td>\n",
       "      <td>378</td>\n",
       "      <td>28</td>\n",
       "      <td>X</td>\n",
       "      <td>IMGMFY</td>\n",
       "      <td>[90$]</td>\n",
       "      <td>North America</td>\n",
       "    </tr>\n",
       "    <tr>\n",
       "      <th>3</th>\n",
       "      <td>40</td>\n",
       "      <td>156</td>\n",
       "      <td>44</td>\n",
       "      <td>Q</td>\n",
       "      <td>RHRHJY</td>\n",
       "      <td>[89$]</td>\n",
       "      <td>Asia</td>\n",
       "    </tr>\n",
       "    <tr>\n",
       "      <th>4</th>\n",
       "      <td>50</td>\n",
       "      <td>468</td>\n",
       "      <td>33</td>\n",
       "      <td>J</td>\n",
       "      <td>HPQCMC</td>\n",
       "      <td>[95$]</td>\n",
       "      <td>Africa</td>\n",
       "    </tr>\n",
       "  </tbody>\n",
       "</table>\n",
       "</div>"
      ],
      "text/plain": [
       "   ID  Range  Value Type Zip Code   Cost      Continent\n",
       "0  10    192     50    F   NXEYEM  [56$]           Asia\n",
       "1  20    299     21    M   VNFKZD  [18$]           Asia\n",
       "2  30    378     28    X   IMGMFY  [90$]  North America\n",
       "3  40    156     44    Q   RHRHJY  [89$]           Asia\n",
       "4  50    468     33    J   HPQCMC  [95$]         Africa"
      ]
     },
     "execution_count": 6,
     "metadata": {},
     "output_type": "execute_result"
    }
   ],
   "source": [
    "myDF.head()"
   ]
  },
  {
   "cell_type": "code",
   "execution_count": 7,
   "metadata": {},
   "outputs": [],
   "source": [
    "myDF.drop([1, 3, 5], axis=0, inplace=True)"
   ]
  },
  {
   "cell_type": "code",
   "execution_count": 8,
   "metadata": {},
   "outputs": [
    {
     "data": {
      "text/html": [
       "<div>\n",
       "<style scoped>\n",
       "    .dataframe tbody tr th:only-of-type {\n",
       "        vertical-align: middle;\n",
       "    }\n",
       "\n",
       "    .dataframe tbody tr th {\n",
       "        vertical-align: top;\n",
       "    }\n",
       "\n",
       "    .dataframe thead th {\n",
       "        text-align: right;\n",
       "    }\n",
       "</style>\n",
       "<table border=\"1\" class=\"dataframe\">\n",
       "  <thead>\n",
       "    <tr style=\"text-align: right;\">\n",
       "      <th></th>\n",
       "      <th>ID</th>\n",
       "      <th>Range</th>\n",
       "      <th>Value</th>\n",
       "      <th>Type</th>\n",
       "      <th>Zip Code</th>\n",
       "      <th>Cost</th>\n",
       "      <th>Continent</th>\n",
       "    </tr>\n",
       "  </thead>\n",
       "  <tbody>\n",
       "    <tr>\n",
       "      <th>0</th>\n",
       "      <td>10</td>\n",
       "      <td>192</td>\n",
       "      <td>50</td>\n",
       "      <td>F</td>\n",
       "      <td>NXEYEM</td>\n",
       "      <td>[56$]</td>\n",
       "      <td>Asia</td>\n",
       "    </tr>\n",
       "    <tr>\n",
       "      <th>2</th>\n",
       "      <td>30</td>\n",
       "      <td>378</td>\n",
       "      <td>28</td>\n",
       "      <td>X</td>\n",
       "      <td>IMGMFY</td>\n",
       "      <td>[90$]</td>\n",
       "      <td>North America</td>\n",
       "    </tr>\n",
       "    <tr>\n",
       "      <th>4</th>\n",
       "      <td>50</td>\n",
       "      <td>468</td>\n",
       "      <td>33</td>\n",
       "      <td>J</td>\n",
       "      <td>HPQCMC</td>\n",
       "      <td>[95$]</td>\n",
       "      <td>Africa</td>\n",
       "    </tr>\n",
       "    <tr>\n",
       "      <th>6</th>\n",
       "      <td>70</td>\n",
       "      <td>327</td>\n",
       "      <td>24</td>\n",
       "      <td>F</td>\n",
       "      <td>NLVQPY</td>\n",
       "      <td>[25$]</td>\n",
       "      <td>Europe</td>\n",
       "    </tr>\n",
       "  </tbody>\n",
       "</table>\n",
       "</div>"
      ],
      "text/plain": [
       "   ID  Range  Value Type Zip Code   Cost      Continent\n",
       "0  10    192     50    F   NXEYEM  [56$]           Asia\n",
       "2  30    378     28    X   IMGMFY  [90$]  North America\n",
       "4  50    468     33    J   HPQCMC  [95$]         Africa\n",
       "6  70    327     24    F   NLVQPY  [25$]         Europe"
      ]
     },
     "execution_count": 8,
     "metadata": {},
     "output_type": "execute_result"
    }
   ],
   "source": [
    "myDF.head(4)"
   ]
  },
  {
   "cell_type": "code",
   "execution_count": 9,
   "metadata": {},
   "outputs": [
    {
     "data": {
      "text/plain": [
       "297.53326293558604"
      ]
     },
     "execution_count": 9,
     "metadata": {},
     "output_type": "execute_result"
    }
   ],
   "source": [
    "myDF['Range'].mean()"
   ]
  },
  {
   "cell_type": "code",
   "execution_count": 10,
   "metadata": {},
   "outputs": [
    {
     "data": {
      "text/plain": [
       "50"
      ]
     },
     "execution_count": 10,
     "metadata": {},
     "output_type": "execute_result"
    }
   ],
   "source": [
    "myDF['Type'].str.contains('F').sum()\n"
   ]
  },
  {
   "cell_type": "code",
   "execution_count": 11,
   "metadata": {},
   "outputs": [],
   "source": [
    "myDF['Type']=myDF['Type'].str.replace('F','AAA')"
   ]
  },
  {
   "cell_type": "code",
   "execution_count": 12,
   "metadata": {},
   "outputs": [
    {
     "data": {
      "text/html": [
       "<div>\n",
       "<style scoped>\n",
       "    .dataframe tbody tr th:only-of-type {\n",
       "        vertical-align: middle;\n",
       "    }\n",
       "\n",
       "    .dataframe tbody tr th {\n",
       "        vertical-align: top;\n",
       "    }\n",
       "\n",
       "    .dataframe thead th {\n",
       "        text-align: right;\n",
       "    }\n",
       "</style>\n",
       "<table border=\"1\" class=\"dataframe\">\n",
       "  <thead>\n",
       "    <tr style=\"text-align: right;\">\n",
       "      <th></th>\n",
       "      <th>ID</th>\n",
       "      <th>Range</th>\n",
       "      <th>Value</th>\n",
       "      <th>Type</th>\n",
       "      <th>Zip Code</th>\n",
       "      <th>Cost</th>\n",
       "      <th>Continent</th>\n",
       "    </tr>\n",
       "  </thead>\n",
       "  <tbody>\n",
       "    <tr>\n",
       "      <th>0</th>\n",
       "      <td>10</td>\n",
       "      <td>192</td>\n",
       "      <td>50</td>\n",
       "      <td>AAA</td>\n",
       "      <td>NXEYEM</td>\n",
       "      <td>[56$]</td>\n",
       "      <td>Asia</td>\n",
       "    </tr>\n",
       "    <tr>\n",
       "      <th>2</th>\n",
       "      <td>30</td>\n",
       "      <td>378</td>\n",
       "      <td>28</td>\n",
       "      <td>X</td>\n",
       "      <td>IMGMFY</td>\n",
       "      <td>[90$]</td>\n",
       "      <td>North America</td>\n",
       "    </tr>\n",
       "    <tr>\n",
       "      <th>4</th>\n",
       "      <td>50</td>\n",
       "      <td>468</td>\n",
       "      <td>33</td>\n",
       "      <td>J</td>\n",
       "      <td>HPQCMC</td>\n",
       "      <td>[95$]</td>\n",
       "      <td>Africa</td>\n",
       "    </tr>\n",
       "    <tr>\n",
       "      <th>6</th>\n",
       "      <td>70</td>\n",
       "      <td>327</td>\n",
       "      <td>24</td>\n",
       "      <td>AAA</td>\n",
       "      <td>NLVQPY</td>\n",
       "      <td>[25$]</td>\n",
       "      <td>Europe</td>\n",
       "    </tr>\n",
       "    <tr>\n",
       "      <th>7</th>\n",
       "      <td>80</td>\n",
       "      <td>495</td>\n",
       "      <td>50</td>\n",
       "      <td>Z</td>\n",
       "      <td>DLUMAX</td>\n",
       "      <td>[70$]</td>\n",
       "      <td>Antarctica</td>\n",
       "    </tr>\n",
       "  </tbody>\n",
       "</table>\n",
       "</div>"
      ],
      "text/plain": [
       "   ID  Range  Value Type Zip Code   Cost      Continent\n",
       "0  10    192     50  AAA   NXEYEM  [56$]           Asia\n",
       "2  30    378     28    X   IMGMFY  [90$]  North America\n",
       "4  50    468     33    J   HPQCMC  [95$]         Africa\n",
       "6  70    327     24  AAA   NLVQPY  [25$]         Europe\n",
       "7  80    495     50    Z   DLUMAX  [70$]     Antarctica"
      ]
     },
     "execution_count": 12,
     "metadata": {},
     "output_type": "execute_result"
    }
   ],
   "source": [
    "myDF.head()"
   ]
  },
  {
   "cell_type": "code",
   "execution_count": 13,
   "metadata": {},
   "outputs": [],
   "source": [
    "myDF['Cost']=myDF['Cost'].str.replace('[\\[\\]\\$]','')\n"
   ]
  },
  {
   "cell_type": "code",
   "execution_count": 14,
   "metadata": {},
   "outputs": [
    {
     "data": {
      "text/html": [
       "<div>\n",
       "<style scoped>\n",
       "    .dataframe tbody tr th:only-of-type {\n",
       "        vertical-align: middle;\n",
       "    }\n",
       "\n",
       "    .dataframe tbody tr th {\n",
       "        vertical-align: top;\n",
       "    }\n",
       "\n",
       "    .dataframe thead th {\n",
       "        text-align: right;\n",
       "    }\n",
       "</style>\n",
       "<table border=\"1\" class=\"dataframe\">\n",
       "  <thead>\n",
       "    <tr style=\"text-align: right;\">\n",
       "      <th></th>\n",
       "      <th>ID</th>\n",
       "      <th>Range</th>\n",
       "      <th>Value</th>\n",
       "      <th>Type</th>\n",
       "      <th>Zip Code</th>\n",
       "      <th>Cost</th>\n",
       "      <th>Continent</th>\n",
       "    </tr>\n",
       "  </thead>\n",
       "  <tbody>\n",
       "    <tr>\n",
       "      <th>0</th>\n",
       "      <td>10</td>\n",
       "      <td>192</td>\n",
       "      <td>50</td>\n",
       "      <td>AAA</td>\n",
       "      <td>NXEYEM</td>\n",
       "      <td>56</td>\n",
       "      <td>Asia</td>\n",
       "    </tr>\n",
       "    <tr>\n",
       "      <th>2</th>\n",
       "      <td>30</td>\n",
       "      <td>378</td>\n",
       "      <td>28</td>\n",
       "      <td>X</td>\n",
       "      <td>IMGMFY</td>\n",
       "      <td>90</td>\n",
       "      <td>North America</td>\n",
       "    </tr>\n",
       "    <tr>\n",
       "      <th>4</th>\n",
       "      <td>50</td>\n",
       "      <td>468</td>\n",
       "      <td>33</td>\n",
       "      <td>J</td>\n",
       "      <td>HPQCMC</td>\n",
       "      <td>95</td>\n",
       "      <td>Africa</td>\n",
       "    </tr>\n",
       "    <tr>\n",
       "      <th>6</th>\n",
       "      <td>70</td>\n",
       "      <td>327</td>\n",
       "      <td>24</td>\n",
       "      <td>AAA</td>\n",
       "      <td>NLVQPY</td>\n",
       "      <td>25</td>\n",
       "      <td>Europe</td>\n",
       "    </tr>\n",
       "    <tr>\n",
       "      <th>7</th>\n",
       "      <td>80</td>\n",
       "      <td>495</td>\n",
       "      <td>50</td>\n",
       "      <td>Z</td>\n",
       "      <td>DLUMAX</td>\n",
       "      <td>70</td>\n",
       "      <td>Antarctica</td>\n",
       "    </tr>\n",
       "  </tbody>\n",
       "</table>\n",
       "</div>"
      ],
      "text/plain": [
       "   ID  Range  Value Type Zip Code Cost      Continent\n",
       "0  10    192     50  AAA   NXEYEM   56           Asia\n",
       "2  30    378     28    X   IMGMFY   90  North America\n",
       "4  50    468     33    J   HPQCMC   95         Africa\n",
       "6  70    327     24  AAA   NLVQPY   25         Europe\n",
       "7  80    495     50    Z   DLUMAX   70     Antarctica"
      ]
     },
     "execution_count": 14,
     "metadata": {},
     "output_type": "execute_result"
    }
   ],
   "source": [
    "myDF.head()"
   ]
  },
  {
   "cell_type": "code",
   "execution_count": 15,
   "metadata": {},
   "outputs": [
    {
     "data": {
      "text/plain": [
       "ID            int64\n",
       "Range         int64\n",
       "Value         int64\n",
       "Type         object\n",
       "Zip Code     object\n",
       "Cost         object\n",
       "Continent    object\n",
       "dtype: object"
      ]
     },
     "execution_count": 15,
     "metadata": {},
     "output_type": "execute_result"
    }
   ],
   "source": [
    "myDF.dtypes"
   ]
  },
  {
   "cell_type": "code",
   "execution_count": 16,
   "metadata": {},
   "outputs": [],
   "source": [
    "myDF['Cost']=myDF['Cost'].astype(int)"
   ]
  },
  {
   "cell_type": "code",
   "execution_count": 17,
   "metadata": {},
   "outputs": [
    {
     "data": {
      "text/plain": [
       "ID            int64\n",
       "Range         int64\n",
       "Value         int64\n",
       "Type         object\n",
       "Zip Code     object\n",
       "Cost          int32\n",
       "Continent    object\n",
       "dtype: object"
      ]
     },
     "execution_count": 17,
     "metadata": {},
     "output_type": "execute_result"
    }
   ],
   "source": [
    "myDF.dtypes"
   ]
  },
  {
   "cell_type": "code",
   "execution_count": 18,
   "metadata": {},
   "outputs": [
    {
     "data": {
      "text/plain": [
       "54.586061246040124"
      ]
     },
     "execution_count": 18,
     "metadata": {},
     "output_type": "execute_result"
    }
   ],
   "source": [
    "myDF['Cost'].mean()"
   ]
  },
  {
   "cell_type": "code",
   "execution_count": 19,
   "metadata": {},
   "outputs": [
    {
     "data": {
      "text/plain": [
       "Continent\n",
       "Africa           54.741259\n",
       "Antarctica       54.706897\n",
       "Asia             54.279070\n",
       "Australia        56.838028\n",
       "Europe           53.258993\n",
       "North America    55.006993\n",
       "South America    53.162963\n",
       "Name: Cost, dtype: float64"
      ]
     },
     "execution_count": 19,
     "metadata": {},
     "output_type": "execute_result"
    }
   ],
   "source": [
    "myDF.groupby('Continent').Cost.mean()"
   ]
  },
  {
   "cell_type": "code",
   "execution_count": 20,
   "metadata": {},
   "outputs": [
    {
     "data": {
      "text/html": [
       "<div>\n",
       "<style scoped>\n",
       "    .dataframe tbody tr th:only-of-type {\n",
       "        vertical-align: middle;\n",
       "    }\n",
       "\n",
       "    .dataframe tbody tr th {\n",
       "        vertical-align: top;\n",
       "    }\n",
       "\n",
       "    .dataframe thead th {\n",
       "        text-align: right;\n",
       "    }\n",
       "</style>\n",
       "<table border=\"1\" class=\"dataframe\">\n",
       "  <thead>\n",
       "    <tr style=\"text-align: right;\">\n",
       "      <th></th>\n",
       "      <th>min</th>\n",
       "      <th>max</th>\n",
       "      <th>std</th>\n",
       "    </tr>\n",
       "    <tr>\n",
       "      <th>Continent</th>\n",
       "      <th></th>\n",
       "      <th></th>\n",
       "      <th></th>\n",
       "    </tr>\n",
       "  </thead>\n",
       "  <tbody>\n",
       "    <tr>\n",
       "      <th>Africa</th>\n",
       "      <td>11</td>\n",
       "      <td>97</td>\n",
       "      <td>25.961432</td>\n",
       "    </tr>\n",
       "    <tr>\n",
       "      <th>Antarctica</th>\n",
       "      <td>10</td>\n",
       "      <td>97</td>\n",
       "      <td>24.880590</td>\n",
       "    </tr>\n",
       "    <tr>\n",
       "      <th>Asia</th>\n",
       "      <td>10</td>\n",
       "      <td>99</td>\n",
       "      <td>26.109737</td>\n",
       "    </tr>\n",
       "    <tr>\n",
       "      <th>Australia</th>\n",
       "      <td>10</td>\n",
       "      <td>97</td>\n",
       "      <td>26.057121</td>\n",
       "    </tr>\n",
       "    <tr>\n",
       "      <th>Europe</th>\n",
       "      <td>10</td>\n",
       "      <td>99</td>\n",
       "      <td>26.185054</td>\n",
       "    </tr>\n",
       "    <tr>\n",
       "      <th>North America</th>\n",
       "      <td>10</td>\n",
       "      <td>99</td>\n",
       "      <td>25.664821</td>\n",
       "    </tr>\n",
       "    <tr>\n",
       "      <th>South America</th>\n",
       "      <td>10</td>\n",
       "      <td>98</td>\n",
       "      <td>25.724780</td>\n",
       "    </tr>\n",
       "  </tbody>\n",
       "</table>\n",
       "</div>"
      ],
      "text/plain": [
       "               min  max        std\n",
       "Continent                         \n",
       "Africa          11   97  25.961432\n",
       "Antarctica      10   97  24.880590\n",
       "Asia            10   99  26.109737\n",
       "Australia       10   97  26.057121\n",
       "Europe          10   99  26.185054\n",
       "North America   10   99  25.664821\n",
       "South America   10   98  25.724780"
      ]
     },
     "execution_count": 20,
     "metadata": {},
     "output_type": "execute_result"
    }
   ],
   "source": [
    "myDF.groupby('Continent').Cost.agg(['min','max', 'std'])"
   ]
  },
  {
   "cell_type": "code",
   "execution_count": 21,
   "metadata": {},
   "outputs": [
    {
     "data": {
      "text/html": [
       "<div>\n",
       "<style scoped>\n",
       "    .dataframe tbody tr th:only-of-type {\n",
       "        vertical-align: middle;\n",
       "    }\n",
       "\n",
       "    .dataframe tbody tr th {\n",
       "        vertical-align: top;\n",
       "    }\n",
       "\n",
       "    .dataframe thead tr th {\n",
       "        text-align: left;\n",
       "    }\n",
       "\n",
       "    .dataframe thead tr:last-of-type th {\n",
       "        text-align: right;\n",
       "    }\n",
       "</style>\n",
       "<table border=\"1\" class=\"dataframe\">\n",
       "  <thead>\n",
       "    <tr>\n",
       "      <th></th>\n",
       "      <th colspan=\"3\" halign=\"left\">ID</th>\n",
       "      <th colspan=\"3\" halign=\"left\">Range</th>\n",
       "      <th colspan=\"3\" halign=\"left\">Value</th>\n",
       "      <th colspan=\"3\" halign=\"left\">Cost</th>\n",
       "    </tr>\n",
       "    <tr>\n",
       "      <th></th>\n",
       "      <th>min</th>\n",
       "      <th>max</th>\n",
       "      <th>std</th>\n",
       "      <th>min</th>\n",
       "      <th>max</th>\n",
       "      <th>std</th>\n",
       "      <th>min</th>\n",
       "      <th>max</th>\n",
       "      <th>std</th>\n",
       "      <th>min</th>\n",
       "      <th>max</th>\n",
       "      <th>std</th>\n",
       "    </tr>\n",
       "    <tr>\n",
       "      <th>Continent</th>\n",
       "      <th></th>\n",
       "      <th></th>\n",
       "      <th></th>\n",
       "      <th></th>\n",
       "      <th></th>\n",
       "      <th></th>\n",
       "      <th></th>\n",
       "      <th></th>\n",
       "      <th></th>\n",
       "      <th></th>\n",
       "      <th></th>\n",
       "      <th></th>\n",
       "    </tr>\n",
       "  </thead>\n",
       "  <tbody>\n",
       "    <tr>\n",
       "      <th>Africa</th>\n",
       "      <td>50</td>\n",
       "      <td>9450</td>\n",
       "      <td>2614.387519</td>\n",
       "      <td>100</td>\n",
       "      <td>494</td>\n",
       "      <td>118.110406</td>\n",
       "      <td>10</td>\n",
       "      <td>50</td>\n",
       "      <td>12.498931</td>\n",
       "      <td>11</td>\n",
       "      <td>97</td>\n",
       "      <td>25.961432</td>\n",
       "    </tr>\n",
       "    <tr>\n",
       "      <th>Antarctica</th>\n",
       "      <td>80</td>\n",
       "      <td>9370</td>\n",
       "      <td>2936.313786</td>\n",
       "      <td>106</td>\n",
       "      <td>495</td>\n",
       "      <td>114.401370</td>\n",
       "      <td>10</td>\n",
       "      <td>50</td>\n",
       "      <td>11.978316</td>\n",
       "      <td>10</td>\n",
       "      <td>97</td>\n",
       "      <td>24.880590</td>\n",
       "    </tr>\n",
       "    <tr>\n",
       "      <th>Asia</th>\n",
       "      <td>10</td>\n",
       "      <td>9390</td>\n",
       "      <td>2683.431665</td>\n",
       "      <td>103</td>\n",
       "      <td>499</td>\n",
       "      <td>112.047425</td>\n",
       "      <td>10</td>\n",
       "      <td>50</td>\n",
       "      <td>11.752819</td>\n",
       "      <td>10</td>\n",
       "      <td>99</td>\n",
       "      <td>26.109737</td>\n",
       "    </tr>\n",
       "    <tr>\n",
       "      <th>Australia</th>\n",
       "      <td>120</td>\n",
       "      <td>9410</td>\n",
       "      <td>2793.945560</td>\n",
       "      <td>104</td>\n",
       "      <td>496</td>\n",
       "      <td>116.374530</td>\n",
       "      <td>10</td>\n",
       "      <td>50</td>\n",
       "      <td>13.138226</td>\n",
       "      <td>10</td>\n",
       "      <td>97</td>\n",
       "      <td>26.057121</td>\n",
       "    </tr>\n",
       "    <tr>\n",
       "      <th>Europe</th>\n",
       "      <td>70</td>\n",
       "      <td>9480</td>\n",
       "      <td>2623.991892</td>\n",
       "      <td>101</td>\n",
       "      <td>500</td>\n",
       "      <td>116.808685</td>\n",
       "      <td>10</td>\n",
       "      <td>50</td>\n",
       "      <td>11.999544</td>\n",
       "      <td>10</td>\n",
       "      <td>99</td>\n",
       "      <td>26.185054</td>\n",
       "    </tr>\n",
       "    <tr>\n",
       "      <th>North America</th>\n",
       "      <td>30</td>\n",
       "      <td>9490</td>\n",
       "      <td>2841.216413</td>\n",
       "      <td>104</td>\n",
       "      <td>500</td>\n",
       "      <td>113.611333</td>\n",
       "      <td>11</td>\n",
       "      <td>50</td>\n",
       "      <td>12.319601</td>\n",
       "      <td>10</td>\n",
       "      <td>99</td>\n",
       "      <td>25.664821</td>\n",
       "    </tr>\n",
       "    <tr>\n",
       "      <th>South America</th>\n",
       "      <td>90</td>\n",
       "      <td>9500</td>\n",
       "      <td>2656.186804</td>\n",
       "      <td>104</td>\n",
       "      <td>499</td>\n",
       "      <td>117.375623</td>\n",
       "      <td>10</td>\n",
       "      <td>50</td>\n",
       "      <td>11.762450</td>\n",
       "      <td>10</td>\n",
       "      <td>98</td>\n",
       "      <td>25.724780</td>\n",
       "    </tr>\n",
       "  </tbody>\n",
       "</table>\n",
       "</div>"
      ],
      "text/plain": [
       "                ID                    Range                  Value      \\\n",
       "               min   max          std   min  max         std   min max   \n",
       "Continent                                                                \n",
       "Africa          50  9450  2614.387519   100  494  118.110406    10  50   \n",
       "Antarctica      80  9370  2936.313786   106  495  114.401370    10  50   \n",
       "Asia            10  9390  2683.431665   103  499  112.047425    10  50   \n",
       "Australia      120  9410  2793.945560   104  496  116.374530    10  50   \n",
       "Europe          70  9480  2623.991892   101  500  116.808685    10  50   \n",
       "North America   30  9490  2841.216413   104  500  113.611333    11  50   \n",
       "South America   90  9500  2656.186804   104  499  117.375623    10  50   \n",
       "\n",
       "                         Cost                 \n",
       "                     std  min max        std  \n",
       "Continent                                     \n",
       "Africa         12.498931   11  97  25.961432  \n",
       "Antarctica     11.978316   10  97  24.880590  \n",
       "Asia           11.752819   10  99  26.109737  \n",
       "Australia      13.138226   10  97  26.057121  \n",
       "Europe         11.999544   10  99  26.185054  \n",
       "North America  12.319601   10  99  25.664821  \n",
       "South America  11.762450   10  98  25.724780  "
      ]
     },
     "execution_count": 21,
     "metadata": {},
     "output_type": "execute_result"
    }
   ],
   "source": [
    "myDF.groupby('Continent').agg(['min','max', 'std'])"
   ]
  },
  {
   "cell_type": "code",
   "execution_count": 22,
   "metadata": {},
   "outputs": [],
   "source": [
    " %matplotlib inline"
   ]
  },
  {
   "cell_type": "code",
   "execution_count": 23,
   "metadata": {},
   "outputs": [
    {
     "data": {
      "text/plain": [
       "<matplotlib.axes._subplots.AxesSubplot at 0x202508a3d30>"
      ]
     },
     "execution_count": 23,
     "metadata": {},
     "output_type": "execute_result"
    },
    {
     "data": {
      "image/png": "[encoded data removed]",
      "text/plain": [
       "<Figure size 432x288 with 1 Axes>"
      ]
     },
     "metadata": {
      "needs_background": "light"
     },
     "output_type": "display_data"
    }
   ],
   "source": [
    "myDF.groupby('Continent').mean().plot(kind='bar')"
   ]
  },
  {
   "cell_type": "code",
   "execution_count": 24,
   "metadata": {},
   "outputs": [
    {
     "data": {
      "text/plain": [
       "North America    143\n",
       "Africa           143\n",
       "Australia        142\n",
       "Europe           139\n",
       "South America    135\n",
       "Asia             129\n",
       "Antarctica       116\n",
       "Name: Continent, dtype: int64"
      ]
     },
     "execution_count": 24,
     "metadata": {},
     "output_type": "execute_result"
    }
   ],
   "source": [
    "myDF.Continent.value_counts()"
   ]
  },
  {
   "cell_type": "code",
   "execution_count": 25,
   "metadata": {},
   "outputs": [
    {
     "data": {
      "text/plain": [
       "North America    0.151003\n",
       "Africa           0.151003\n",
       "Australia        0.149947\n",
       "Europe           0.146779\n",
       "South America    0.142555\n",
       "Asia             0.136220\n",
       "Antarctica       0.122492\n",
       "Name: Continent, dtype: float64"
      ]
     },
     "execution_count": 25,
     "metadata": {},
     "output_type": "execute_result"
    }
   ],
   "source": [
    "myDF.Continent.value_counts(normalize=True)"
   ]
  },
  {
   "cell_type": "code",
   "execution_count": 26,
   "metadata": {},
   "outputs": [
    {
     "data": {
      "text/plain": [
       "array(['Asia', 'North America', 'Africa', 'Europe', 'Antarctica',\n",
       "       'South America', 'Australia'], dtype=object)"
      ]
     },
     "execution_count": 26,
     "metadata": {},
     "output_type": "execute_result"
    }
   ],
   "source": [
    "myDF.Continent.unique()"
   ]
  },
  {
   "cell_type": "code",
   "execution_count": 27,
   "metadata": {},
   "outputs": [
    {
     "data": {
      "text/plain": [
       "7"
      ]
     },
     "execution_count": 27,
     "metadata": {},
     "output_type": "execute_result"
    }
   ],
   "source": [
    "myDF.Continent.nunique()"
   ]
  },
  {
   "cell_type": "code",
   "execution_count": 28,
   "metadata": {},
   "outputs": [
    {
     "data": {
      "text/plain": [
       "35    20\n",
       "56    20\n",
       "73    18\n",
       "54    17\n",
       "97    17\n",
       "      ..\n",
       "77     5\n",
       "92     5\n",
       "94     5\n",
       "42     3\n",
       "24     2\n",
       "Name: Cost, Length: 90, dtype: int64"
      ]
     },
     "execution_count": 28,
     "metadata": {},
     "output_type": "execute_result"
    }
   ],
   "source": [
    "myDF.Cost.value_counts()"
   ]
  },
  {
   "cell_type": "code",
   "execution_count": 29,
   "metadata": {},
   "outputs": [],
   "source": [
    "%matplotlib inline"
   ]
  },
  {
   "cell_type": "code",
   "execution_count": 30,
   "metadata": {},
   "outputs": [
    {
     "data": {
      "text/plain": [
       "<matplotlib.axes._subplots.AxesSubplot at 0x20250ca3a20>"
      ]
     },
     "execution_count": 30,
     "metadata": {},
     "output_type": "execute_result"
    },
    {
     "data": {
      "image/png": "[encoded data removed]",
      "text/plain": [
       "<Figure size 432x288 with 1 Axes>"
      ]
     },
     "metadata": {
      "needs_background": "light"
     },
     "output_type": "display_data"
    }
   ],
   "source": [
    "myDF.Cost.plot(kind='hist', bins=50)"
   ]
  },
  {
   "cell_type": "code",
   "execution_count": 31,
   "metadata": {},
   "outputs": [
    {
     "data": {
      "text/plain": [
       "2"
      ]
     },
     "execution_count": 31,
     "metadata": {},
     "output_type": "execute_result"
    }
   ],
   "source": [
    "myDF.Type.isnull().sum()"
   ]
  },
  {
   "cell_type": "code",
   "execution_count": 32,
   "metadata": {},
   "outputs": [
    {
     "data": {
      "text/plain": [
       "9"
      ]
     },
     "execution_count": 32,
     "metadata": {},
     "output_type": "execute_result"
    }
   ],
   "source": [
    "myDF['Zip Code'].isnull().sum()"
   ]
  },
  {
   "cell_type": "code",
   "execution_count": 33,
   "metadata": {},
   "outputs": [
    {
     "data": {
      "text/plain": [
       "ID           0\n",
       "Range        0\n",
       "Value        0\n",
       "Type         2\n",
       "Zip Code     9\n",
       "Cost         0\n",
       "Continent    0\n",
       "dtype: int64"
      ]
     },
     "execution_count": 33,
     "metadata": {},
     "output_type": "execute_result"
    }
   ],
   "source": [
    "myDF.isnull().sum()"
   ]
  },
  {
   "cell_type": "code",
   "execution_count": 34,
   "metadata": {},
   "outputs": [
    {
     "data": {
      "text/plain": [
       "(936, 7)"
      ]
     },
     "execution_count": 34,
     "metadata": {},
     "output_type": "execute_result"
    }
   ],
   "source": [
    "myDF.dropna(how='any').shape"
   ]
  },
  {
   "cell_type": "code",
   "execution_count": 35,
   "metadata": {},
   "outputs": [
    {
     "data": {
      "text/plain": [
       "(947, 7)"
      ]
     },
     "execution_count": 35,
     "metadata": {},
     "output_type": "execute_result"
    }
   ],
   "source": [
    "myDF.shape"
   ]
  },
  {
   "cell_type": "code",
   "execution_count": 36,
   "metadata": {},
   "outputs": [
    {
     "data": {
      "text/plain": [
       "AAA    50\n",
       "N      47\n",
       "Z      44\n",
       "Q      44\n",
       "C      43\n",
       "V      41\n",
       "K      41\n",
       "A      40\n",
       "H      39\n",
       "Y      39\n",
       "G      38\n",
       "X      37\n",
       "M      37\n",
       "O      36\n",
       "U      36\n",
       "L      35\n",
       "J      35\n",
       "S      34\n",
       "I      33\n",
       "W      32\n",
       "D      30\n",
       "B      29\n",
       "P      28\n",
       "T      28\n",
       "R      25\n",
       "E      24\n",
       "NaN     2\n",
       "Name: Type, dtype: int64"
      ]
     },
     "execution_count": 36,
     "metadata": {},
     "output_type": "execute_result"
    }
   ],
   "source": [
    "myDF['Type'].value_counts(dropna=False)"
   ]
  },
  {
   "cell_type": "code",
   "execution_count": 37,
   "metadata": {},
   "outputs": [],
   "source": [
    "myDF['Type'].fillna(value='XXX', inplace=True)"
   ]
  },
  {
   "cell_type": "code",
   "execution_count": 38,
   "metadata": {},
   "outputs": [
    {
     "data": {
      "text/plain": [
       "AAA    50\n",
       "N      47\n",
       "Z      44\n",
       "Q      44\n",
       "C      43\n",
       "V      41\n",
       "K      41\n",
       "A      40\n",
       "H      39\n",
       "Y      39\n",
       "G      38\n",
       "M      37\n",
       "X      37\n",
       "O      36\n",
       "U      36\n",
       "L      35\n",
       "J      35\n",
       "S      34\n",
       "I      33\n",
       "W      32\n",
       "D      30\n",
       "B      29\n",
       "T      28\n",
       "P      28\n",
       "R      25\n",
       "E      24\n",
       "XXX     2\n",
       "Name: Type, dtype: int64"
      ]
     },
     "execution_count": 38,
     "metadata": {},
     "output_type": "execute_result"
    }
   ],
   "source": [
    "myDF['Type'].value_counts(dropna=False)"
   ]
  },
  {
   "cell_type": "code",
   "execution_count": 39,
   "metadata": {},
   "outputs": [],
   "source": [
    "myDF.dropna(how='any', inplace=True)"
   ]
  },
  {
   "cell_type": "code",
   "execution_count": 40,
   "metadata": {},
   "outputs": [
    {
     "data": {
      "text/plain": [
       "(938, 7)"
      ]
     },
     "execution_count": 40,
     "metadata": {},
     "output_type": "execute_result"
    }
   ],
   "source": [
    "myDF.shape"
   ]
  },
  {
   "cell_type": "code",
   "execution_count": 41,
   "metadata": {},
   "outputs": [],
   "source": [
    "myDF.set_index('ID', inplace=True)"
   ]
  },
  {
   "cell_type": "code",
   "execution_count": 42,
   "metadata": {},
   "outputs": [],
   "source": [
    "myDF.index.name=None"
   ]
  },
  {
   "cell_type": "code",
   "execution_count": 43,
   "metadata": {},
   "outputs": [
    {
     "data": {
      "text/html": [
       "<div>\n",
       "<style scoped>\n",
       "    .dataframe tbody tr th:only-of-type {\n",
       "        vertical-align: middle;\n",
       "    }\n",
       "\n",
       "    .dataframe tbody tr th {\n",
       "        vertical-align: top;\n",
       "    }\n",
       "\n",
       "    .dataframe thead th {\n",
       "        text-align: right;\n",
       "    }\n",
       "</style>\n",
       "<table border=\"1\" class=\"dataframe\">\n",
       "  <thead>\n",
       "    <tr style=\"text-align: right;\">\n",
       "      <th></th>\n",
       "      <th>Range</th>\n",
       "      <th>Value</th>\n",
       "      <th>Type</th>\n",
       "      <th>Zip Code</th>\n",
       "      <th>Cost</th>\n",
       "      <th>Continent</th>\n",
       "    </tr>\n",
       "  </thead>\n",
       "  <tbody>\n",
       "    <tr>\n",
       "      <th>10</th>\n",
       "      <td>192</td>\n",
       "      <td>50</td>\n",
       "      <td>AAA</td>\n",
       "      <td>NXEYEM</td>\n",
       "      <td>56</td>\n",
       "      <td>Asia</td>\n",
       "    </tr>\n",
       "    <tr>\n",
       "      <th>30</th>\n",
       "      <td>378</td>\n",
       "      <td>28</td>\n",
       "      <td>X</td>\n",
       "      <td>IMGMFY</td>\n",
       "      <td>90</td>\n",
       "      <td>North America</td>\n",
       "    </tr>\n",
       "    <tr>\n",
       "      <th>50</th>\n",
       "      <td>468</td>\n",
       "      <td>33</td>\n",
       "      <td>J</td>\n",
       "      <td>HPQCMC</td>\n",
       "      <td>95</td>\n",
       "      <td>Africa</td>\n",
       "    </tr>\n",
       "    <tr>\n",
       "      <th>70</th>\n",
       "      <td>327</td>\n",
       "      <td>24</td>\n",
       "      <td>AAA</td>\n",
       "      <td>NLVQPY</td>\n",
       "      <td>25</td>\n",
       "      <td>Europe</td>\n",
       "    </tr>\n",
       "    <tr>\n",
       "      <th>80</th>\n",
       "      <td>495</td>\n",
       "      <td>50</td>\n",
       "      <td>Z</td>\n",
       "      <td>DLUMAX</td>\n",
       "      <td>70</td>\n",
       "      <td>Antarctica</td>\n",
       "    </tr>\n",
       "  </tbody>\n",
       "</table>\n",
       "</div>"
      ],
      "text/plain": [
       "    Range  Value Type Zip Code  Cost      Continent\n",
       "10    192     50  AAA   NXEYEM    56           Asia\n",
       "30    378     28    X   IMGMFY    90  North America\n",
       "50    468     33    J   HPQCMC    95         Africa\n",
       "70    327     24  AAA   NLVQPY    25         Europe\n",
       "80    495     50    Z   DLUMAX    70     Antarctica"
      ]
     },
     "execution_count": 43,
     "metadata": {},
     "output_type": "execute_result"
    }
   ],
   "source": [
    "myDF.head()"
   ]
  },
  {
   "cell_type": "code",
   "execution_count": 44,
   "metadata": {},
   "outputs": [
    {
     "data": {
      "text/plain": [
       "24"
      ]
     },
     "execution_count": 44,
     "metadata": {},
     "output_type": "execute_result"
    }
   ],
   "source": [
    "myDF.loc[70,'Value']"
   ]
  },
  {
   "cell_type": "code",
   "execution_count": 45,
   "metadata": {},
   "outputs": [
    {
     "data": {
      "text/plain": [
       "Int64Index([  10,   30,   50,   70,   80,   90,  100,  110,  120,  130,\n",
       "            ...\n",
       "            9410, 9420, 9430, 9440, 9450, 9460, 9470, 9480, 9490, 9500],\n",
       "           dtype='int64', length=938)"
      ]
     },
     "execution_count": 45,
     "metadata": {},
     "output_type": "execute_result"
    }
   ],
   "source": [
    "myDF.index"
   ]
  },
  {
   "cell_type": "code",
   "execution_count": 46,
   "metadata": {},
   "outputs": [
    {
     "data": {
      "text/plain": [
       "Index(['Range', 'Value', 'Type', 'Zip Code', 'Cost', 'Continent'], dtype='object')"
      ]
     },
     "execution_count": 46,
     "metadata": {},
     "output_type": "execute_result"
    }
   ],
   "source": [
    "myDF.columns"
   ]
  },
  {
   "cell_type": "code",
   "execution_count": 47,
   "metadata": {},
   "outputs": [
    {
     "data": {
      "text/plain": [
       "(938, 6)"
      ]
     },
     "execution_count": 47,
     "metadata": {},
     "output_type": "execute_result"
    }
   ],
   "source": [
    "myDF.shape"
   ]
  },
  {
   "cell_type": "code",
   "execution_count": 48,
   "metadata": {},
   "outputs": [],
   "source": [
    "myDF.index.name='ID'"
   ]
  },
  {
   "cell_type": "code",
   "execution_count": 49,
   "metadata": {},
   "outputs": [],
   "source": [
    "myDF.reset_index(inplace=True)"
   ]
  },
  {
   "cell_type": "code",
   "execution_count": 50,
   "metadata": {},
   "outputs": [
    {
     "data": {
      "text/html": [
       "<div>\n",
       "<style scoped>\n",
       "    .dataframe tbody tr th:only-of-type {\n",
       "        vertical-align: middle;\n",
       "    }\n",
       "\n",
       "    .dataframe tbody tr th {\n",
       "        vertical-align: top;\n",
       "    }\n",
       "\n",
       "    .dataframe thead th {\n",
       "        text-align: right;\n",
       "    }\n",
       "</style>\n",
       "<table border=\"1\" class=\"dataframe\">\n",
       "  <thead>\n",
       "    <tr style=\"text-align: right;\">\n",
       "      <th></th>\n",
       "      <th>ID</th>\n",
       "      <th>Range</th>\n",
       "      <th>Value</th>\n",
       "      <th>Type</th>\n",
       "      <th>Zip Code</th>\n",
       "      <th>Cost</th>\n",
       "      <th>Continent</th>\n",
       "    </tr>\n",
       "  </thead>\n",
       "  <tbody>\n",
       "    <tr>\n",
       "      <th>0</th>\n",
       "      <td>10</td>\n",
       "      <td>192</td>\n",
       "      <td>50</td>\n",
       "      <td>AAA</td>\n",
       "      <td>NXEYEM</td>\n",
       "      <td>56</td>\n",
       "      <td>Asia</td>\n",
       "    </tr>\n",
       "    <tr>\n",
       "      <th>1</th>\n",
       "      <td>30</td>\n",
       "      <td>378</td>\n",
       "      <td>28</td>\n",
       "      <td>X</td>\n",
       "      <td>IMGMFY</td>\n",
       "      <td>90</td>\n",
       "      <td>North America</td>\n",
       "    </tr>\n",
       "    <tr>\n",
       "      <th>2</th>\n",
       "      <td>50</td>\n",
       "      <td>468</td>\n",
       "      <td>33</td>\n",
       "      <td>J</td>\n",
       "      <td>HPQCMC</td>\n",
       "      <td>95</td>\n",
       "      <td>Africa</td>\n",
       "    </tr>\n",
       "    <tr>\n",
       "      <th>3</th>\n",
       "      <td>70</td>\n",
       "      <td>327</td>\n",
       "      <td>24</td>\n",
       "      <td>AAA</td>\n",
       "      <td>NLVQPY</td>\n",
       "      <td>25</td>\n",
       "      <td>Europe</td>\n",
       "    </tr>\n",
       "    <tr>\n",
       "      <th>4</th>\n",
       "      <td>80</td>\n",
       "      <td>495</td>\n",
       "      <td>50</td>\n",
       "      <td>Z</td>\n",
       "      <td>DLUMAX</td>\n",
       "      <td>70</td>\n",
       "      <td>Antarctica</td>\n",
       "    </tr>\n",
       "  </tbody>\n",
       "</table>\n",
       "</div>"
      ],
      "text/plain": [
       "   ID  Range  Value Type Zip Code  Cost      Continent\n",
       "0  10    192     50  AAA   NXEYEM    56           Asia\n",
       "1  30    378     28    X   IMGMFY    90  North America\n",
       "2  50    468     33    J   HPQCMC    95         Africa\n",
       "3  70    327     24  AAA   NLVQPY    25         Europe\n",
       "4  80    495     50    Z   DLUMAX    70     Antarctica"
      ]
     },
     "execution_count": 50,
     "metadata": {},
     "output_type": "execute_result"
    }
   ],
   "source": [
    "myDF.head()"
   ]
  },
  {
   "cell_type": "code",
   "execution_count": 51,
   "metadata": {},
   "outputs": [
    {
     "data": {
      "text/plain": [
       "RangeIndex(start=0, stop=938, step=1)"
      ]
     },
     "execution_count": 51,
     "metadata": {},
     "output_type": "execute_result"
    }
   ],
   "source": [
    "myDF.index"
   ]
  },
  {
   "cell_type": "code",
   "execution_count": 52,
   "metadata": {},
   "outputs": [
    {
     "data": {
      "text/plain": [
       "Index(['ID', 'Range', 'Value', 'Type', 'Zip Code', 'Cost', 'Continent'], dtype='object')"
      ]
     },
     "execution_count": 52,
     "metadata": {},
     "output_type": "execute_result"
    }
   ],
   "source": [
    "myDF.columns"
   ]
  },
  {
   "cell_type": "code",
   "execution_count": 53,
   "metadata": {},
   "outputs": [
    {
     "data": {
      "text/plain": [
       "(938, 7)"
      ]
     },
     "execution_count": 53,
     "metadata": {},
     "output_type": "execute_result"
    }
   ],
   "source": [
    "myDF.shape"
   ]
  },
  {
   "cell_type": "code",
   "execution_count": 54,
   "metadata": {},
   "outputs": [
    {
     "data": {
      "text/html": [
       "<div>\n",
       "<style scoped>\n",
       "    .dataframe tbody tr th:only-of-type {\n",
       "        vertical-align: middle;\n",
       "    }\n",
       "\n",
       "    .dataframe tbody tr th {\n",
       "        vertical-align: top;\n",
       "    }\n",
       "\n",
       "    .dataframe thead th {\n",
       "        text-align: right;\n",
       "    }\n",
       "</style>\n",
       "<table border=\"1\" class=\"dataframe\">\n",
       "  <thead>\n",
       "    <tr style=\"text-align: right;\">\n",
       "      <th></th>\n",
       "      <th>ID</th>\n",
       "      <th>Range</th>\n",
       "      <th>Value</th>\n",
       "      <th>Cost</th>\n",
       "    </tr>\n",
       "  </thead>\n",
       "  <tbody>\n",
       "    <tr>\n",
       "      <th>count</th>\n",
       "      <td>938.000000</td>\n",
       "      <td>938.000000</td>\n",
       "      <td>938.000000</td>\n",
       "      <td>938.000000</td>\n",
       "    </tr>\n",
       "    <tr>\n",
       "      <th>mean</th>\n",
       "      <td>4749.104478</td>\n",
       "      <td>297.531983</td>\n",
       "      <td>29.917910</td>\n",
       "      <td>54.611940</td>\n",
       "    </tr>\n",
       "    <tr>\n",
       "      <th>std</th>\n",
       "      <td>2739.076928</td>\n",
       "      <td>115.913345</td>\n",
       "      <td>12.292447</td>\n",
       "      <td>25.742149</td>\n",
       "    </tr>\n",
       "    <tr>\n",
       "      <th>min</th>\n",
       "      <td>10.000000</td>\n",
       "      <td>100.000000</td>\n",
       "      <td>10.000000</td>\n",
       "      <td>10.000000</td>\n",
       "    </tr>\n",
       "    <tr>\n",
       "      <th>25%</th>\n",
       "      <td>2382.500000</td>\n",
       "      <td>194.000000</td>\n",
       "      <td>19.000000</td>\n",
       "      <td>33.000000</td>\n",
       "    </tr>\n",
       "    <tr>\n",
       "      <th>50%</th>\n",
       "      <td>4725.000000</td>\n",
       "      <td>295.000000</td>\n",
       "      <td>30.000000</td>\n",
       "      <td>55.000000</td>\n",
       "    </tr>\n",
       "    <tr>\n",
       "      <th>75%</th>\n",
       "      <td>7097.500000</td>\n",
       "      <td>400.000000</td>\n",
       "      <td>41.000000</td>\n",
       "      <td>76.000000</td>\n",
       "    </tr>\n",
       "    <tr>\n",
       "      <th>max</th>\n",
       "      <td>9500.000000</td>\n",
       "      <td>500.000000</td>\n",
       "      <td>50.000000</td>\n",
       "      <td>99.000000</td>\n",
       "    </tr>\n",
       "  </tbody>\n",
       "</table>\n",
       "</div>"
      ],
      "text/plain": [
       "                ID       Range       Value        Cost\n",
       "count   938.000000  938.000000  938.000000  938.000000\n",
       "mean   4749.104478  297.531983   29.917910   54.611940\n",
       "std    2739.076928  115.913345   12.292447   25.742149\n",
       "min      10.000000  100.000000   10.000000   10.000000\n",
       "25%    2382.500000  194.000000   19.000000   33.000000\n",
       "50%    4725.000000  295.000000   30.000000   55.000000\n",
       "75%    7097.500000  400.000000   41.000000   76.000000\n",
       "max    9500.000000  500.000000   50.000000   99.000000"
      ]
     },
     "execution_count": 54,
     "metadata": {},
     "output_type": "execute_result"
    }
   ],
   "source": [
    "myDF.describe()"
   ]
  },
  {
   "cell_type": "code",
   "execution_count": 55,
   "metadata": {},
   "outputs": [
    {
     "data": {
      "text/plain": [
       "938.0"
      ]
     },
     "execution_count": 55,
     "metadata": {},
     "output_type": "execute_result"
    }
   ],
   "source": [
    "myDF.describe().loc['count','Cost']"
   ]
  },
  {
   "cell_type": "code",
   "execution_count": 56,
   "metadata": {},
   "outputs": [
    {
     "data": {
      "text/plain": [
       "Antarctica       115\n",
       "Asia             129\n",
       "South America    135\n",
       "Europe           138\n",
       "Africa           139\n",
       "North America    141\n",
       "Australia        141\n",
       "Name: Continent, dtype: int64"
      ]
     },
     "execution_count": 56,
     "metadata": {},
     "output_type": "execute_result"
    }
   ],
   "source": [
    "myDF.Continent.value_counts().sort_values()"
   ]
  },
  {
   "cell_type": "code",
   "execution_count": 57,
   "metadata": {},
   "outputs": [
    {
     "data": {
      "text/plain": [
       "Africa           139\n",
       "Antarctica       115\n",
       "Asia             129\n",
       "Australia        141\n",
       "Europe           138\n",
       "North America    141\n",
       "South America    135\n",
       "Name: Continent, dtype: int64"
      ]
     },
     "execution_count": 57,
     "metadata": {},
     "output_type": "execute_result"
    }
   ],
   "source": [
    "myDF.Continent.value_counts().sort_index()"
   ]
  },
  {
   "cell_type": "code",
   "execution_count": 58,
   "metadata": {},
   "outputs": [],
   "source": [
    "#quantity = pd.Series([3000000, 85000], index=['AAA', 'XXX'], name='amount')"
   ]
  },
  {
   "cell_type": "code",
   "execution_count": 59,
   "metadata": {},
   "outputs": [
    {
     "data": {
      "text/html": [
       "<div>\n",
       "<style scoped>\n",
       "    .dataframe tbody tr th:only-of-type {\n",
       "        vertical-align: middle;\n",
       "    }\n",
       "\n",
       "    .dataframe tbody tr th {\n",
       "        vertical-align: top;\n",
       "    }\n",
       "\n",
       "    .dataframe thead th {\n",
       "        text-align: right;\n",
       "    }\n",
       "</style>\n",
       "<table border=\"1\" class=\"dataframe\">\n",
       "  <thead>\n",
       "    <tr style=\"text-align: right;\">\n",
       "      <th></th>\n",
       "      <th>ID</th>\n",
       "      <th>Range</th>\n",
       "      <th>Value</th>\n",
       "      <th>Type</th>\n",
       "      <th>Zip Code</th>\n",
       "      <th>Cost</th>\n",
       "      <th>Continent</th>\n",
       "    </tr>\n",
       "  </thead>\n",
       "  <tbody>\n",
       "    <tr>\n",
       "      <th>1</th>\n",
       "      <td>30</td>\n",
       "      <td>378</td>\n",
       "      <td>28</td>\n",
       "      <td>X</td>\n",
       "      <td>IMGMFY</td>\n",
       "      <td>90</td>\n",
       "      <td>North America</td>\n",
       "    </tr>\n",
       "    <tr>\n",
       "      <th>3</th>\n",
       "      <td>70</td>\n",
       "      <td>327</td>\n",
       "      <td>24</td>\n",
       "      <td>AAA</td>\n",
       "      <td>NLVQPY</td>\n",
       "      <td>25</td>\n",
       "      <td>Europe</td>\n",
       "    </tr>\n",
       "    <tr>\n",
       "      <th>5</th>\n",
       "      <td>90</td>\n",
       "      <td>115</td>\n",
       "      <td>30</td>\n",
       "      <td>S</td>\n",
       "      <td>KYJUHA</td>\n",
       "      <td>17</td>\n",
       "      <td>South America</td>\n",
       "    </tr>\n",
       "    <tr>\n",
       "      <th>7</th>\n",
       "      <td>110</td>\n",
       "      <td>301</td>\n",
       "      <td>29</td>\n",
       "      <td>A</td>\n",
       "      <td>OVINZU</td>\n",
       "      <td>69</td>\n",
       "      <td>South America</td>\n",
       "    </tr>\n",
       "  </tbody>\n",
       "</table>\n",
       "</div>"
      ],
      "text/plain": [
       "    ID  Range  Value Type Zip Code  Cost      Continent\n",
       "1   30    378     28    X   IMGMFY    90  North America\n",
       "3   70    327     24  AAA   NLVQPY    25         Europe\n",
       "5   90    115     30    S   KYJUHA    17  South America\n",
       "7  110    301     29    A   OVINZU    69  South America"
      ]
     },
     "execution_count": 59,
     "metadata": {},
     "output_type": "execute_result"
    }
   ],
   "source": [
    "myDF.loc[[1, 3, 5, 7], :]"
   ]
  },
  {
   "cell_type": "code",
   "execution_count": 60,
   "metadata": {},
   "outputs": [
    {
     "data": {
      "text/html": [
       "<div>\n",
       "<style scoped>\n",
       "    .dataframe tbody tr th:only-of-type {\n",
       "        vertical-align: middle;\n",
       "    }\n",
       "\n",
       "    .dataframe tbody tr th {\n",
       "        vertical-align: top;\n",
       "    }\n",
       "\n",
       "    .dataframe thead th {\n",
       "        text-align: right;\n",
       "    }\n",
       "</style>\n",
       "<table border=\"1\" class=\"dataframe\">\n",
       "  <thead>\n",
       "    <tr style=\"text-align: right;\">\n",
       "      <th></th>\n",
       "      <th>Type</th>\n",
       "      <th>Continent</th>\n",
       "    </tr>\n",
       "  </thead>\n",
       "  <tbody>\n",
       "    <tr>\n",
       "      <th>0</th>\n",
       "      <td>AAA</td>\n",
       "      <td>Asia</td>\n",
       "    </tr>\n",
       "    <tr>\n",
       "      <th>1</th>\n",
       "      <td>X</td>\n",
       "      <td>North America</td>\n",
       "    </tr>\n",
       "    <tr>\n",
       "      <th>2</th>\n",
       "      <td>J</td>\n",
       "      <td>Africa</td>\n",
       "    </tr>\n",
       "    <tr>\n",
       "      <th>3</th>\n",
       "      <td>AAA</td>\n",
       "      <td>Europe</td>\n",
       "    </tr>\n",
       "    <tr>\n",
       "      <th>4</th>\n",
       "      <td>Z</td>\n",
       "      <td>Antarctica</td>\n",
       "    </tr>\n",
       "    <tr>\n",
       "      <th>5</th>\n",
       "      <td>S</td>\n",
       "      <td>South America</td>\n",
       "    </tr>\n",
       "    <tr>\n",
       "      <th>6</th>\n",
       "      <td>K</td>\n",
       "      <td>South America</td>\n",
       "    </tr>\n",
       "  </tbody>\n",
       "</table>\n",
       "</div>"
      ],
      "text/plain": [
       "  Type      Continent\n",
       "0  AAA           Asia\n",
       "1    X  North America\n",
       "2    J         Africa\n",
       "3  AAA         Europe\n",
       "4    Z     Antarctica\n",
       "5    S  South America\n",
       "6    K  South America"
      ]
     },
     "execution_count": 60,
     "metadata": {},
     "output_type": "execute_result"
    }
   ],
   "source": [
    "myDF.loc[0:6, ['Type','Continent']]"
   ]
  },
  {
   "cell_type": "code",
   "execution_count": 61,
   "metadata": {},
   "outputs": [
    {
     "data": {
      "text/plain": [
       "687    42\n",
       "743    37\n",
       "Name: Value, dtype: int64"
      ]
     },
     "execution_count": 61,
     "metadata": {},
     "output_type": "execute_result"
    }
   ],
   "source": [
    "myDF[myDF.Type=='XXX'].Value"
   ]
  },
  {
   "cell_type": "code",
   "execution_count": null,
   "metadata": {},
   "outputs": [],
   "source": []
  }
 ],
 "metadata": {
  "kernelspec": {
   "display_name": "Python 3",
   "language": "python",
   "name": "python3"
  },
  "language_info": {
   "codemirror_mode": {
    "name": "ipython",
    "version": 3
   },
   "file_extension": ".py",
   "mimetype": "text/x-python",
   "name": "python",
   "nbconvert_exporter": "python",
   "pygments_lexer": "ipython3",
   "version": "3.7.3"
  }
 },
 "nbformat": 4,
 "nbformat_minor": 2
}
