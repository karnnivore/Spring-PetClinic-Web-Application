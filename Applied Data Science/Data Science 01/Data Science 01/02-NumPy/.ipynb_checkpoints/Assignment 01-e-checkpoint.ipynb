{
 "cells": [
  {
   "cell_type": "markdown",
   "metadata": {},
   "source": [
    "# Reza Dibaj\n",
    "Assignment 01\n",
    "2019-09-27"
   ]
  },
  {
   "cell_type": "code",
   "execution_count": 55,
   "metadata": {},
   "outputs": [],
   "source": [
    "import pandas as pd\n",
    "import numpy as np\n",
    "data = pd.read_csv('data/cities.csv')"
   ]
  },
  {
   "cell_type": "code",
   "execution_count": 56,
   "metadata": {},
   "outputs": [
    {
     "name": "stdout",
     "output_type": "stream",
     "text": [
      "[59 48 59 12 48 59 48 23 24  0  0  0 48  0 23 11 11 11 11 11 35 36  0 47\n",
      "  0 59 23 59 11 59 48 35 59 12 11 47 36  0 59 36 35 35 35 12 11 47 35  0\n",
      " 59  0 48 12  0  0 24 59 59 11 24 35 12 36 11  0 11 12 59 59 11 48 24 24\n",
      " 35 23 59 47 11 35 59 35 11 11 48 24 24 23 48 11 35 24 47  0 35 36 12 35\n",
      " 35 11 11 24 47 23  0 11 12 59 11 11 23 48 24 36  0 23 24 12 35 12 12 24\n",
      " 48 12 23 12 11 48 48 35]\n"
     ]
    }
   ],
   "source": [
    "LatS = np.array(data['LatS'])\n",
    "print(LatS)"
   ]
  },
  {
   "cell_type": "code",
   "execution_count": 57,
   "metadata": {},
   "outputs": [
    {
     "name": "stdout",
     "output_type": "stream",
     "text": [
      "Mean SpLatSace:        27.4921875\n"
     ]
    }
   ],
   "source": [
    "print(\"Mean SpLatSace:       \", LatS.mean())\n",
    "print(\"Standard Deviation:\", LatS.std())\n",
    "print(\"Minimum Space:    \", LatS.min())\n",
    "print(\"Maximum Space:    \", LatS.max())"
   ]
  },
  {
   "cell_type": "code",
   "execution_count": 59,
   "metadata": {},
   "outputs": [
    {
     "name": "stdout",
     "output_type": "stream",
     "text": [
      "30th percentile:  12.0\n",
      "Median:  24.0\n",
      "70th percentile:  36.0\n"
     ]
    }
   ],
   "source": [
    "print(\"30th percentile: \", np.percentile(LatS, 30))\n",
    "print(\"Median: \", np.median(LatS))\n",
    "print(\"70th percentile: \", np.percentile(LatS, 70))"
   ]
  },
  {
   "cell_type": "code",
   "execution_count": 60,
   "metadata": {},
   "outputs": [],
   "source": [
    "%matplotlib inline\n",
    "import matplotlib.pyplot as plt\n",
    "import seaborn; seaborn.set() #set plot style"
   ]
  },
  {
   "cell_type": "code",
   "execution_count": 61,
   "metadata": {},
   "outputs": [
    {
     "data": {
      "text/plain": [
       "Text(0, 0.5, 'number')"
      ]
     },
     "execution_count": 61,
     "metadata": {},
     "output_type": "execute_result"
    },
    {
     "data": {
      "image/png": "[encoded data removed]",
      "text/plain": [
       "<Figure size 432x288 with 1 Axes>"
      ]
     },
     "metadata": {},
     "output_type": "display_data"
    }
   ],
   "source": [
    "plt.hist(LatS)\n",
    "plt.title('LatS Distribution - By Reza')\n",
    "plt.xlabel('LatS')\n",
    "plt.ylabel('number')"
   ]
  },
  {
   "cell_type": "code",
   "execution_count": null,
   "metadata": {},
   "outputs": [],
   "source": []
  }
 ],
 "metadata": {
  "kernelspec": {
   "display_name": "Python 3",
   "language": "python",
   "name": "python3"
  },
  "language_info": {
   "codemirror_mode": {
    "name": "ipython",
    "version": 3
   },
   "file_extension": ".py",
   "mimetype": "text/x-python",
   "name": "python",
   "nbconvert_exporter": "python",
   "pygments_lexer": "ipython3",
   "version": "3.7.3"
  }
 },
 "nbformat": 4,
 "nbformat_minor": 2
}
