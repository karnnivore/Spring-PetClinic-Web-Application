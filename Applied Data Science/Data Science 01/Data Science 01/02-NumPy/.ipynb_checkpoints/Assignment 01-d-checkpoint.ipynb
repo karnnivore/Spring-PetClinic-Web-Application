{
 "cells": [
  {
   "cell_type": "markdown",
   "metadata": {},
   "source": [
    "# Reza Dibaj\n",
    "Assignment 01\n",
    "2019-09-27"
   ]
  },
  {
   "cell_type": "code",
   "execution_count": 2,
   "metadata": {},
   "outputs": [],
   "source": [
    "import pandas as pd\n",
    "import numpy as np\n",
    "data = pd.read_csv('data/grades.csv')"
   ]
  },
  {
   "cell_type": "code",
   "execution_count": 3,
   "metadata": {},
   "outputs": [
    {
     "name": "stdout",
     "output_type": "stream",
     "text": [
      "[ 49  48  44  47  45  46  43  50 100  97  40  45  77  90   4  40]\n"
     ]
    }
   ],
   "source": [
    "Final = np.array(data['Final'])\n",
    "print(Final)"
   ]
  },
  {
   "cell_type": "code",
   "execution_count": 4,
   "metadata": {},
   "outputs": [
    {
     "name": "stdout",
     "output_type": "stream",
     "text": [
      "Mean Final:        54.0625\n",
      "Standard Deviation: 24.05064643102135\n",
      "Minimum Final:     4\n",
      "Maximum Final:     100\n"
     ]
    }
   ],
   "source": [
    "print(\"Mean Final:       \", Final.mean())\n",
    "print(\"Standard Deviation:\", Final.std())\n",
    "print(\"Minimum Final:    \", Final.min())\n",
    "print(\"Maximum Final:    \", Final.max())"
   ]
  },
  {
   "cell_type": "code",
   "execution_count": 5,
   "metadata": {},
   "outputs": [
    {
     "name": "stdout",
     "output_type": "stream",
     "text": [
      "30th percentile:  44.5\n",
      "Median:  46.5\n",
      "70th percentile:  49.5\n"
     ]
    }
   ],
   "source": [
    "print(\"30th percentile: \", np.percentile(Final, 30))\n",
    "print(\"Median: \", np.median(Final))\n",
    "print(\"70th percentile: \", np.percentile(Final, 70))"
   ]
  },
  {
   "cell_type": "code",
   "execution_count": 6,
   "metadata": {},
   "outputs": [],
   "source": [
    "%matplotlib inline\n",
    "import matplotlib.pyplot as plt\n",
    "import seaborn; seaborn.set() #set plot style"
   ]
  },
  {
   "cell_type": "code",
   "execution_count": 7,
   "metadata": {},
   "outputs": [
    {
     "data": {
      "text/plain": [
       "Text(0, 0.5, 'number')"
      ]
     },
     "execution_count": 7,
     "metadata": {},
     "output_type": "execute_result"
    },
    {
     "data": {
      "image/png": "[encoded data removed]",
      "text/plain": [
       "<Figure size 432x288 with 1 Axes>"
      ]
     },
     "metadata": {
      "needs_background": "light"
     },
     "output_type": "display_data"
    }
   ],
   "source": [
    "plt.hist(Final)\n",
    "plt.title('Final Distribution - By Reza')\n",
    "plt.xlabel('Final')\n",
    "plt.ylabel('number')"
   ]
  },
  {
   "cell_type": "code",
   "execution_count": null,
   "metadata": {},
   "outputs": [],
   "source": []
  }
 ],
 "metadata": {
  "kernelspec": {
   "display_name": "Python 3",
   "language": "python",
   "name": "python3"
  },
  "language_info": {
   "codemirror_mode": {
    "name": "ipython",
    "version": 3
   },
   "file_extension": ".py",
   "mimetype": "text/x-python",
   "name": "python",
   "nbconvert_exporter": "python",
   "pygments_lexer": "ipython3",
   "version": "3.7.3"
  }
 },
 "nbformat": 4,
 "nbformat_minor": 2
}
