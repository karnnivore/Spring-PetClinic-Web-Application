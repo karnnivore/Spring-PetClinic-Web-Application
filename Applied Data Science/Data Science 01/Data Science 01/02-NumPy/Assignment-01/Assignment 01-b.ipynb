{
 "cells": [
  {
   "cell_type": "markdown",
   "metadata": {},
   "source": [
    "# Reza Dibaj\n",
    "Assignment 01\n",
    "2019-09-27"
   ]
  },
  {
   "cell_type": "code",
   "execution_count": 13,
   "metadata": {},
   "outputs": [],
   "source": [
    "import pandas as pd\n",
    "import numpy as np\n",
    "data = pd.read_csv('data/ford_escort.csv')"
   ]
  },
  {
   "cell_type": "code",
   "execution_count": 14,
   "metadata": {},
   "outputs": [
    {
     "name": "stdout",
     "output_type": "stream",
     "text": [
      "[27 17 28  5 38 36 24 37 38 30 38 25 39 22 24 37 29 70 29 72 72 61  7]\n"
     ]
    }
   ],
   "source": [
    "Mileage = np.array(data['Mileage'])\n",
    "print(Mileage)"
   ]
  },
  {
   "cell_type": "code",
   "execution_count": 15,
   "metadata": {},
   "outputs": [
    {
     "name": "stdout",
     "output_type": "stream",
     "text": [
      "Mean Mileage:        35.0\n",
      "Standard Deviation: 17.96131107831981\n",
      "Minimum Mileage:     5\n",
      "Maximum Mileage:     72\n"
     ]
    }
   ],
   "source": [
    "print(\"Mean Mileage:       \", Mileage.mean())\n",
    "print(\"Standard Deviation:\", Mileage.std())\n",
    "print(\"Minimum Mileage:    \", Mileage.min())\n",
    "print(\"Maximum Mileage:    \", Mileage.max())"
   ]
  },
  {
   "cell_type": "code",
   "execution_count": 16,
   "metadata": {},
   "outputs": [
    {
     "name": "stdout",
     "output_type": "stream",
     "text": [
      "30th percentile:  26.199999999999996\n",
      "Median:  30.0\n",
      "70th percentile:  38.0\n"
     ]
    }
   ],
   "source": [
    "print(\"30th percentile: \", np.percentile(Mileage, 30))\n",
    "print(\"Median: \", np.median(Mileage))\n",
    "print(\"70th percentile: \", np.percentile(Mileage, 70))"
   ]
  },
  {
   "cell_type": "code",
   "execution_count": 17,
   "metadata": {},
   "outputs": [],
   "source": [
    "%matplotlib inline\n",
    "import matplotlib.pyplot as plt\n",
    "import seaborn; seaborn.set() #set plot style"
   ]
  },
  {
   "cell_type": "code",
   "execution_count": 18,
   "metadata": {},
   "outputs": [
    {
     "data": {
      "text/plain": [
       "Text(0, 0.5, 'number')"
      ]
     },
     "execution_count": 18,
     "metadata": {},
     "output_type": "execute_result"
    },
    {
     "data": {
      "image/png": "[encoded data removed]",
      "text/plain": [
       "<Figure size 432x288 with 1 Axes>"
      ]
     },
     "metadata": {},
     "output_type": "display_data"
    }
   ],
   "source": [
    "plt.hist(Mileage)\n",
    "plt.title('Mileage Distribution - By Reza')\n",
    "plt.xlabel('Mileage')\n",
    "plt.ylabel('number')"
   ]
  },
  {
   "cell_type": "code",
   "execution_count": null,
   "metadata": {},
   "outputs": [],
   "source": []
  }
 ],
 "metadata": {
  "kernelspec": {
   "display_name": "Python 3",
   "language": "python",
   "name": "python3"
  },
  "language_info": {
   "codemirror_mode": {
    "name": "ipython",
    "version": 3
   },
   "file_extension": ".py",
   "mimetype": "text/x-python",
   "name": "python",
   "nbconvert_exporter": "python",
   "pygments_lexer": "ipython3",
   "version": "3.7.3"
  }
 },
 "nbformat": 4,
 "nbformat_minor": 2
}
