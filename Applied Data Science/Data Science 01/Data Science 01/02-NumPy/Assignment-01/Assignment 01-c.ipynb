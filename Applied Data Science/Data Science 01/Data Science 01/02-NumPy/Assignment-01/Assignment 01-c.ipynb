{
 "cells": [
  {
   "cell_type": "markdown",
   "metadata": {},
   "source": [
    "# Reza Dibaj\n",
    "Assignment 01\n",
    "2019-09-27"
   ]
  },
  {
   "cell_type": "code",
   "execution_count": 1,
   "metadata": {},
   "outputs": [],
   "source": [
    "import pandas as pd\n",
    "import numpy as np\n",
    "data = pd.read_csv('data/freshman_kgs.csv')"
   ]
  },
  {
   "cell_type": "code",
   "execution_count": 2,
   "metadata": {},
   "outputs": [
    {
     "name": "stdout",
     "output_type": "stream",
     "text": [
      "[72 97 74 93 68 59 64 56 70 58 50 71 67 56 70 61 53 92 57 67 58 49 68 69\n",
      " 87 81 60 52 70 63 56 68 68 54 80 64 57 63 54 56 54 73 77 63 51 59 65 53\n",
      " 62 55 74 74 64 64 57 64 60 64 66 52 71 55 65 75 42 74 94]\n"
     ]
    }
   ],
   "source": [
    "Weight_Sep = np.array(data['Weight_Sep'])\n",
    "print(Weight_Sep)"
   ]
  },
  {
   "cell_type": "code",
   "execution_count": 4,
   "metadata": {},
   "outputs": [
    {
     "name": "stdout",
     "output_type": "stream",
     "text": [
      "Mean Weight_Sep:        65.05970149253731\n",
      "Standard Deviation: 11.20085364152898\n",
      "Minimum Weight_Sep:     42\n",
      "Maximum Weight_Sep:     97\n"
     ]
    }
   ],
   "source": [
    "print(\"Mean Weight_Sep:       \", Weight_Sep.mean())\n",
    "print(\"Standard Deviation:\", Weight_Sep.std())\n",
    "print(\"Minimum Weight_Sep:    \", Weight_Sep.min())\n",
    "print(\"Maximum Weight_Sep:    \", Weight_Sep.max())"
   ]
  },
  {
   "cell_type": "code",
   "execution_count": 5,
   "metadata": {},
   "outputs": [
    {
     "name": "stdout",
     "output_type": "stream",
     "text": [
      "30th percentile:  57.8\n",
      "Median:  64.0\n",
      "70th percentile:  69.19999999999999\n"
     ]
    }
   ],
   "source": [
    "print(\"30th percentile: \", np.percentile(Weight_Sep, 30))\n",
    "print(\"Median: \", np.median(Weight_Sep))\n",
    "print(\"70th percentile: \", np.percentile(Weight_Sep, 70))"
   ]
  },
  {
   "cell_type": "code",
   "execution_count": 6,
   "metadata": {},
   "outputs": [],
   "source": [
    "%matplotlib inline\n",
    "import matplotlib.pyplot as plt\n",
    "import seaborn; seaborn.set() #set plot style"
   ]
  },
  {
   "cell_type": "code",
   "execution_count": 7,
   "metadata": {},
   "outputs": [
    {
     "data": {
      "text/plain": [
       "Text(0, 0.5, 'number')"
      ]
     },
     "execution_count": 7,
     "metadata": {},
     "output_type": "execute_result"
    },
    {
     "data": {
      "image/png": "[encoded data removed]",
      "text/plain": [
       "<Figure size 432x288 with 1 Axes>"
      ]
     },
     "metadata": {
      "needs_background": "light"
     },
     "output_type": "display_data"
    }
   ],
   "source": [
    "plt.hist(Weight_Sep)\n",
    "plt.title('Weight_Sep Distribution - By Reza')\n",
    "plt.xlabel('Final')\n",
    "plt.ylabel('number')"
   ]
  },
  {
   "cell_type": "code",
   "execution_count": null,
   "metadata": {},
   "outputs": [],
   "source": []
  }
 ],
 "metadata": {
  "kernelspec": {
   "display_name": "Python 3",
   "language": "python",
   "name": "python3"
  },
  "language_info": {
   "codemirror_mode": {
    "name": "ipython",
    "version": 3
   },
   "file_extension": ".py",
   "mimetype": "text/x-python",
   "name": "python",
   "nbconvert_exporter": "python",
   "pygments_lexer": "ipython3",
   "version": "3.7.3"
  }
 },
 "nbformat": 4,
 "nbformat_minor": 2
}
